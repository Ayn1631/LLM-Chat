{
 "cells": [
  {
   "cell_type": "code",
   "execution_count": null,
   "id": "eb1c46b32162e742",
   "metadata": {
    "ExecuteTime": {
     "end_time": "2025-01-05T07:19:54.558620800Z",
     "start_time": "2025-01-05T07:19:50.635177200Z"
    },
    "collapsed": false
   },
   "outputs": [
    {
     "name": "stderr",
     "output_type": "stream",
     "text": [
      "/media/00.Data/00.User/02.wfx/app/anaconda3/envs/RAG/lib/python3.12/site-packages/IPython/core/interactiveshell.py:3577: LangChainDeprecationWarning: As of langchain-core 0.3.0, LangChain uses pydantic v2 internally. The langchain_core.pydantic_v1 module was a compatibility shim for pydantic v1, and should no longer be used. Please update the code to import from Pydantic directly.\n",
      "\n",
      "For example, replace imports like: `from langchain_core.pydantic_v1 import BaseModel`\n",
      "with: `from pydantic import BaseModel`\n",
      "or the v1 compatibility namespace if you are working in a code base that has not been fully upgraded to pydantic 2 yet. \tfrom pydantic.v1 import BaseModel\n",
      "\n",
      "  exec(code_obj, self.user_global_ns, self.user_ns)\n",
      "/home/wfx/Code/Graph_RAG/base.py:9: LangChainDeprecationWarning: The class `Neo4jGraph` was deprecated in LangChain 0.3.8 and will be removed in 1.0. An updated version of the class exists in the :class:`~langchain-neo4j package and should be used instead. To use it run `pip install -U :class:`~langchain-neo4j` and import as `from :class:`~langchain_neo4j import Neo4jGraph``.\n",
      "  graph = Neo4jGraph(refresh_schema=False)\n",
      "[WARNING][2025-03-31 16:02:54.175] redis_rate_limiter.py:21 [t:126289326957632]: No redis installed, RedisRateLimiter unavailable. Ignore this warning if you don't need to use qianfan SDK in distribution environment\n",
      "/home/wfx/Code/Graph_RAG/get_vector_index.py:11: LangChainDeprecationWarning: The class `HuggingFaceEmbeddings` was deprecated in LangChain 0.2.2 and will be removed in 1.0. An updated version of the class exists in the :class:`~langchain-huggingface package and should be used instead. To use it run `pip install -U :class:`~langchain-huggingface` and import as `from :class:`~langchain_huggingface import HuggingFaceEmbeddings``.\n",
      "  hf = HuggingFaceEmbeddings(\n"
     ]
    }
   ],
   "source": [
    "from langchain_core.runnables import (\n",
    "    RunnableBranch,\n",
    "    RunnableLambda,\n",
    "    RunnableParallel,\n",
    "    RunnablePassthrough,\n",
    ")\n",
    "from langchain_core.prompts import ChatPromptTemplate\n",
    "from langchain_core.prompts.prompt import PromptTemplate\n",
    "from langchain_core.pydantic_v1 import BaseModel, Field\n",
    "from typing import Tuple, List, Optional\n",
    "from langchain_core.messages import AIMessage, HumanMessage\n",
    "from langchain_core.output_parsers import StrOutputParser\n",
    "import os\n",
    "from langchain_community.graphs import Neo4jGraph\n",
    "from langchain.document_loaders import WikipediaLoader\n",
    "from langchain.text_splitter import TokenTextSplitter\n",
    "from langchain_openai import ChatOpenAI\n",
    "from langchain_experimental.graph_transformers import LLMGraphTransformer\n",
    "from neo4j import GraphDatabase\n",
    "from yfiles_jupyter_graphs import GraphWidget\n",
    "from langchain_community.vectorstores import Neo4jVector\n",
    "from langchain.embeddings import HuggingFaceEmbeddings\n",
    "from langchain_openai import OpenAIEmbeddings\n",
    "from langchain_community.vectorstores.neo4j_vector import remove_lucene_chars\n",
    "from langchain_core.runnables import ConfigurableField, RunnableParallel, RunnablePassthrough\n",
    "\n",
    "from Graph_RAG.base import *"
   ]
  },
  {
   "cell_type": "code",
   "execution_count": 2,
   "id": "3a976ac0",
   "metadata": {},
   "outputs": [
    {
     "data": {
      "text/plain": [
       "'/home/wfx/Code'"
      ]
     },
     "execution_count": 2,
     "metadata": {},
     "output_type": "execute_result"
    }
   ],
   "source": [
    "os.getcwd()"
   ]
  },
  {
   "cell_type": "code",
   "execution_count": 3,
   "id": "3eaed43e",
   "metadata": {},
   "outputs": [
    {
     "data": {
      "text/plain": [
       "True"
      ]
     },
     "execution_count": 3,
     "metadata": {},
     "output_type": "execute_result"
    }
   ],
   "source": [
    "import dotenv\n",
    "dotenv.load_dotenv()"
   ]
  },
  {
   "cell_type": "code",
   "execution_count": 4,
   "id": "7697774fe4e58087",
   "metadata": {
    "ExecuteTime": {
     "end_time": "2025-01-05T07:20:00.132412Z",
     "start_time": "2025-01-05T07:19:55.945505100Z"
    },
    "collapsed": false
   },
   "outputs": [],
   "source": [
    "graph = Neo4jGraph(refresh_schema=False)"
   ]
  },
  {
   "cell_type": "code",
   "execution_count": 5,
   "id": "9f62aee015a508",
   "metadata": {
    "ExecuteTime": {
     "end_time": "2025-01-05T05:15:31.695301600Z",
     "start_time": "2025-01-05T05:15:31.681294700Z"
    },
    "collapsed": false
   },
   "outputs": [],
   "source": [
    "from langchain_text_splitters import TokenTextSplitter\n",
    "from langchain_community.document_loaders import WikipediaLoader\n",
    "\n",
    "# 读取维基百科文章\n",
    "# raw_documents = WikipediaLoader(query=\"金庸\", load_max_docs=5, lang='zh').load()\n",
    "# raw_documents = WikipediaLoader(query=\"Elizabeth I\").load()"
   ]
  },
  {
   "cell_type": "code",
   "execution_count": 6,
   "id": "b9070df7e8785e1b",
   "metadata": {
    "ExecuteTime": {
     "end_time": "2025-01-05T05:15:31.720295800Z",
     "start_time": "2025-01-05T05:15:31.697302500Z"
    },
    "collapsed": false
   },
   "outputs": [],
   "source": [
    "# len(raw_documents)"
   ]
  },
  {
   "cell_type": "code",
   "execution_count": null,
   "id": "05176a21",
   "metadata": {},
   "outputs": [],
   "source": []
  },
  {
   "cell_type": "code",
   "execution_count": 7,
   "id": "481508f71e4aa2f4",
   "metadata": {
    "ExecuteTime": {
     "end_time": "2025-01-05T05:15:36.475831200Z",
     "start_time": "2025-01-05T05:15:32.213639100Z"
    },
    "collapsed": false
   },
   "outputs": [],
   "source": [
    "# 定义分块策略\n",
    "text_splitter = TokenTextSplitter(chunk_size=512, chunk_overlap=24)\n",
    "# documents = text_splitter.split_documents(raw_documents[:3])"
   ]
  },
  {
   "cell_type": "code",
   "execution_count": 8,
   "id": "6b775008dfbf74f1",
   "metadata": {
    "ExecuteTime": {
     "end_time": "2025-01-05T05:35:42.865216100Z",
     "start_time": "2025-01-05T05:35:38.308313400Z"
    },
    "collapsed": false
   },
   "outputs": [],
   "source": [
    "# import spacy\n",
    "# from langchain.text_splitter import SpacyTextSplitter\n",
    "# nlp = spacy.load(\"zh_core_web_sm\")\n",
    "# text_splitter = SpacyTextSplitter(\n",
    "#     pipeline=nlp,\n",
    "#     chunk_size = 512,\n",
    "#     chunk_overlap  = 24\n",
    "# )"
   ]
  },
  {
   "cell_type": "code",
   "execution_count": 9,
   "id": "f4dd32b966d966a6",
   "metadata": {
    "ExecuteTime": {
     "end_time": "2025-01-05T05:15:36.491830600Z",
     "start_time": "2025-01-05T05:15:36.477830900Z"
    },
    "collapsed": false
   },
   "outputs": [],
   "source": [
    "# documents[0]"
   ]
  },
  {
   "cell_type": "code",
   "execution_count": 10,
   "id": "f4b2a819c6a35096",
   "metadata": {
    "ExecuteTime": {
     "end_time": "2025-01-06T06:24:43.280293300Z",
     "start_time": "2025-01-06T06:24:26.274275100Z"
    },
    "collapsed": false
   },
   "outputs": [],
   "source": [
    "from qianfan.resources.console.iam import IAM\n",
    "import os\n",
    "os.environ[\"QIANFAN_ACCESS_KEY\"] = \"ALTAKL4iMnAPX8XNvNgebDnwnq\"\n",
    "os.environ[\"QIANFAN_SECRET_KEY\"] = \"02deb1efca3f4f358207ecfa7a8445d5\"\n",
    "\n",
    "# BEARER_TOKEN = IAM.create_bearer_token(expire_in_seconds=86400).body.get('token')\n",
    "BEARER_TOKEN = ''"
   ]
  },
  {
   "cell_type": "code",
   "execution_count": 11,
   "id": "aadbe9cb5ee15b46",
   "metadata": {
    "ExecuteTime": {
     "end_time": "2025-01-05T05:15:38.421438800Z",
     "start_time": "2025-01-05T05:15:38.402439100Z"
    },
    "collapsed": false
   },
   "outputs": [
    {
     "data": {
      "text/plain": [
       "''"
      ]
     },
     "execution_count": 11,
     "metadata": {},
     "output_type": "execute_result"
    }
   ],
   "source": [
    "BEARER_TOKEN"
   ]
  },
  {
   "cell_type": "code",
   "execution_count": 12,
   "id": "a6b4dc9538bb3553",
   "metadata": {
    "ExecuteTime": {
     "end_time": "2025-01-05T05:15:42.869415500Z",
     "start_time": "2025-01-05T05:15:38.446312200Z"
    },
    "collapsed": false
   },
   "outputs": [],
   "source": [
    "from ERNIE import llm\n",
    "# llm = LLM_for_Openai(BEARER_TOKEN)"
   ]
  },
  {
   "cell_type": "code",
   "execution_count": 13,
   "id": "b159fad131e87a85",
   "metadata": {
    "ExecuteTime": {
     "end_time": "2025-01-05T05:15:45.200347400Z",
     "start_time": "2025-01-05T05:15:42.871414700Z"
    },
    "collapsed": false
   },
   "outputs": [
    {
     "data": {
      "text/plain": [
       "'你好！我是中文界面版的AI助手。可以用英语或中文和我聊天了。要是什么问题或者话题你想与我讨论，请随时问问看！'"
      ]
     },
     "execution_count": 13,
     "metadata": {},
     "output_type": "execute_result"
    }
   ],
   "source": [
    "llm('你好')"
   ]
  },
  {
   "cell_type": "code",
   "execution_count": 14,
   "id": "a9a2f368",
   "metadata": {},
   "outputs": [
    {
     "data": {
      "text/plain": [
       "'llama3.1:latest'"
      ]
     },
     "execution_count": 14,
     "metadata": {},
     "output_type": "execute_result"
    }
   ],
   "source": [
    "llm.model_name"
   ]
  },
  {
   "cell_type": "code",
   "execution_count": 15,
   "id": "40e9d21fd877c22c",
   "metadata": {
    "ExecuteTime": {
     "end_time": "2025-01-05T05:15:45.256527600Z",
     "start_time": "2025-01-05T05:15:45.203931100Z"
    },
    "collapsed": false
   },
   "outputs": [],
   "source": [
    "from langchain_community.chat_models import ErnieBotChat\n",
    "from langchain_experimental.graph_transformers import LLMGraphTransformer\n",
    "llm_transformer = LLMGraphTransformer(llm=llm, ignore_tool_usage=True)"
   ]
  },
  {
   "cell_type": "code",
   "execution_count": 16,
   "id": "5024cbbd",
   "metadata": {},
   "outputs": [
    {
     "data": {
      "text/plain": [
       "'llama3.1:latest'"
      ]
     },
     "execution_count": 16,
     "metadata": {},
     "output_type": "execute_result"
    }
   ],
   "source": [
    "llm.model_name"
   ]
  },
  {
   "cell_type": "code",
   "execution_count": 20,
   "id": "801b01b1465c8d13",
   "metadata": {
    "ExecuteTime": {
     "end_time": "2025-01-05T05:15:45.327163100Z",
     "start_time": "2025-01-05T05:15:45.296163100Z"
    },
    "collapsed": false
   },
   "outputs": [],
   "source": [
    "from langchain_core.documents import Document"
   ]
  },
  {
   "cell_type": "code",
   "execution_count": 21,
   "id": "cf5b62bb5155829b",
   "metadata": {
    "ExecuteTime": {
     "end_time": "2025-01-05T05:15:45.328162900Z",
     "start_time": "2025-01-05T05:15:45.314165100Z"
    },
    "collapsed": false
   },
   "outputs": [
    {
     "data": {
      "text/plain": [
       "Document(metadata={}, page_content='你好')"
      ]
     },
     "execution_count": 21,
     "metadata": {},
     "output_type": "execute_result"
    }
   ],
   "source": [
    "Document('你好')"
   ]
  },
  {
   "cell_type": "code",
   "execution_count": 22,
   "id": "9d4810a8bb754a7",
   "metadata": {
    "ExecuteTime": {
     "end_time": "2025-01-05T05:16:03.017276700Z",
     "start_time": "2025-01-05T05:16:02.979271800Z"
    },
    "collapsed": false
   },
   "outputs": [
    {
     "data": {
      "text/plain": [
       "Document(metadata={}, page_content='孙太白尝言，其曾祖肄业于南山柳沟寺。麦秋旋里，经旬始返。启斋门，则案上尘生，窗间丝满，命仆粪除，至晚始觉清爽可坐。乃拂榻陈卧具，扁扉就枕，月色已满窗矣。辗转移时，万簌俱寂。忽闻风声隆隆，山门豁然作响，窃谓寺僧失扃。注念间，风声渐近居庐，俄而房门辟矣。大疑之，思未定，声已入屋。又有靴声铿铿然，渐傍寝门。心始怖。俄而寝门辟矣。忽视之，一大鬼鞠躬塞入，突立榻前，殆与梁齐。面似老瓜皮色，目光睒闪，绕室四顾，张巨口如盆，齿疏疏长三寸许，舌动喉鸣，呵喇之声，响连四壁，公惧极。又念咫尺之地势无所逃，不如因而刺之。乃阴抽枕下佩刀，遽拔而所之，中腹，作石缶声。鬼大怒，伸巨爪攫公。公少缩。鬼攫得衾捽之，忿忿而去。公随衾堕，伏地号呼。\\n家人持火奔集，则门闭如故，排窗入，见公状，大骇。扶曳登床，始言其故。其验之，则衾夹于寝门之隙。启扉检照，见有爪痕如箕，五指着处皆穿。\\n既明，不敢复留，负笈而归。后问僧人，无复他异。')"
      ]
     },
     "execution_count": 22,
     "metadata": {},
     "output_type": "execute_result"
    }
   ],
   "source": [
    "with open('Graph_RAG/莲香.txt', 'r', encoding='utf-8') as f:\n",
    "    text = f.read()\n",
    "doc = Document(text)\n",
    "doc"
   ]
  },
  {
   "cell_type": "code",
   "execution_count": 23,
   "id": "d8617eb8055cdf18",
   "metadata": {
    "ExecuteTime": {
     "end_time": "2025-01-05T05:16:04.539786Z",
     "start_time": "2025-01-05T05:16:04.511785700Z"
    },
    "collapsed": false
   },
   "outputs": [],
   "source": [
    "docs = text_splitter.split_documents([doc])"
   ]
  },
  {
   "cell_type": "code",
   "execution_count": 24,
   "id": "d8b7a853dd2e3af",
   "metadata": {
    "ExecuteTime": {
     "end_time": "2025-01-05T05:16:05.416902400Z",
     "start_time": "2025-01-05T05:16:05.393902600Z"
    },
    "collapsed": false
   },
   "outputs": [
    {
     "data": {
      "text/plain": [
       "2"
      ]
     },
     "execution_count": 24,
     "metadata": {},
     "output_type": "execute_result"
    }
   ],
   "source": [
    "len(docs)"
   ]
  },
  {
   "cell_type": "code",
   "execution_count": 25,
   "id": "9abe9de502a114dc",
   "metadata": {
    "ExecuteTime": {
     "end_time": "2025-01-05T05:16:06.138852900Z",
     "start_time": "2025-01-05T05:16:06.118853300Z"
    },
    "collapsed": false
   },
   "outputs": [
    {
     "data": {
      "text/plain": [
       "Document(metadata={}, page_content='孙太白尝言，其曾祖肄业于南山柳沟寺。麦秋旋里，经旬始返。启斋门，则案上尘生，窗间丝满，命仆粪除，至晚始觉清爽可坐。乃拂榻陈卧具，扁扉就枕，月色已满窗矣。辗转移时，万簌俱寂。忽闻风声隆隆，山门豁然作响，窃谓寺僧失扃。注念间，风声渐近居庐，俄而房门辟矣。大疑之，思未定，声已入屋。又有靴声铿铿然，渐傍寝门。心始怖。俄而寝门辟矣。忽视之，一大鬼鞠躬塞入，突立榻前，殆与梁齐。面似老瓜皮色，目光睒闪，绕室四顾，张巨口如盆，齿疏疏长三寸许，舌动喉鸣�')"
      ]
     },
     "execution_count": 25,
     "metadata": {},
     "output_type": "execute_result"
    }
   ],
   "source": [
    "docs[0]"
   ]
  },
  {
   "cell_type": "code",
   "execution_count": 26,
   "id": "9cb23ff41678f055",
   "metadata": {
    "ExecuteTime": {
     "end_time": "2025-01-05T05:16:06.656956200Z",
     "start_time": "2025-01-05T05:16:06.637956500Z"
    },
    "collapsed": false
   },
   "outputs": [],
   "source": [
    "graph_docs = []"
   ]
  },
  {
   "cell_type": "code",
   "execution_count": 27,
   "id": "171a8e0aa6b5f9ea",
   "metadata": {
    "ExecuteTime": {
     "end_time": "2025-01-05T05:16:07.072586Z",
     "start_time": "2025-01-05T05:16:07.058476400Z"
    },
    "collapsed": false
   },
   "outputs": [],
   "source": [
    "# for doc_graph in llm_transformer.convert_to_graph_documents(docs):\n",
    "#     graph_docs.append(doc_graph)"
   ]
  },
  {
   "cell_type": "code",
   "execution_count": 28,
   "id": "18e2a39c987f8a3",
   "metadata": {
    "ExecuteTime": {
     "end_time": "2025-01-05T05:16:07.508627500Z",
     "start_time": "2025-01-05T05:16:07.494627300Z"
    },
    "collapsed": false
   },
   "outputs": [],
   "source": [
    "def Run(doc__):\n",
    "    global graph_docs\n",
    "    # print(doc__)\n",
    "    res = llm_transformer.process_response(doc__)\n",
    "    with threading.Lock():\n",
    "        graph_docs.append(res)"
   ]
  },
  {
   "cell_type": "code",
   "execution_count": 29,
   "id": "ea40a973e52ad493",
   "metadata": {
    "ExecuteTime": {
     "end_time": "2025-01-05T05:16:08.117865400Z",
     "start_time": "2025-01-05T05:16:08.081868800Z"
    },
    "collapsed": false
   },
   "outputs": [],
   "source": [
    "import threading\n",
    "from tqdm.notebook import tqdm, trange"
   ]
  },
  {
   "cell_type": "code",
   "execution_count": 30,
   "id": "6405c684b94cf924",
   "metadata": {
    "ExecuteTime": {
     "end_time": "2025-01-05T05:16:08.846800500Z",
     "start_time": "2025-01-05T05:16:08.829804100Z"
    },
    "collapsed": false
   },
   "outputs": [
    {
     "data": {
      "text/plain": [
       "Document(metadata={}, page_content='孙太白尝言，其曾祖肄业于南山柳沟寺。麦秋旋里，经旬始返。启斋门，则案上尘生，窗间丝满，命仆粪除，至晚始觉清爽可坐。乃拂榻陈卧具，扁扉就枕，月色已满窗矣。辗转移时，万簌俱寂。忽闻风声隆隆，山门豁然作响，窃谓寺僧失扃。注念间，风声渐近居庐，俄而房门辟矣。大疑之，思未定，声已入屋。又有靴声铿铿然，渐傍寝门。心始怖。俄而寝门辟矣。忽视之，一大鬼鞠躬塞入，突立榻前，殆与梁齐。面似老瓜皮色，目光睒闪，绕室四顾，张巨口如盆，齿疏疏长三寸许，舌动喉鸣�')"
      ]
     },
     "execution_count": 30,
     "metadata": {},
     "output_type": "execute_result"
    }
   ],
   "source": [
    "docs[0]"
   ]
  },
  {
   "cell_type": "code",
   "execution_count": 31,
   "id": "c119a64eaf7004e",
   "metadata": {
    "ExecuteTime": {
     "end_time": "2025-01-05T05:17:23.554044500Z",
     "start_time": "2025-01-05T05:17:23.512070900Z"
    },
    "collapsed": false
   },
   "outputs": [
    {
     "data": {
      "text/plain": [
       "2"
      ]
     },
     "execution_count": 31,
     "metadata": {},
     "output_type": "execute_result"
    }
   ],
   "source": [
    "len(docs)"
   ]
  },
  {
   "cell_type": "code",
   "execution_count": 32,
   "id": "26a86bd3323ccf9",
   "metadata": {
    "ExecuteTime": {
     "end_time": "2025-01-05T05:17:58.071984800Z",
     "start_time": "2025-01-05T05:17:41.115225100Z"
    },
    "collapsed": false
   },
   "outputs": [
    {
     "data": {
      "application/vnd.jupyter.widget-view+json": {
       "model_id": "7418c099d59b47e4a5c77375d8fb1b45",
       "version_major": 2,
       "version_minor": 0
      },
      "text/plain": [
       "Running:   0%|          | 0/1 [00:00<?, ?Epoch/s]"
      ]
     },
     "metadata": {},
     "output_type": "display_data"
    }
   ],
   "source": [
    "thread_num = 20\n",
    "\n",
    "for star_idx in trange(0, len(docs), thread_num, desc='Running', unit='Epoch'):\n",
    "    threads = []\n",
    "    for i in range(thread_num):\n",
    "        if star_idx + i >= len(docs):\n",
    "            break\n",
    "        # print(type(docs[star_idx + i]))\n",
    "        t = threading.Thread(target=Run, args=[docs[star_idx + i]])\n",
    "        threads.append(t)\n",
    "        t.start()\n",
    "    \n",
    "    for t in threads:\n",
    "        t.join()"
   ]
  },
  {
   "cell_type": "code",
   "execution_count": 33,
   "id": "5c57f7b02b88e883",
   "metadata": {
    "ExecuteTime": {
     "end_time": "2025-01-05T05:18:25.265956700Z",
     "start_time": "2025-01-05T05:18:25.236863100Z"
    },
    "collapsed": false
   },
   "outputs": [
    {
     "data": {
      "text/plain": [
       "2"
      ]
     },
     "execution_count": 33,
     "metadata": {},
     "output_type": "execute_result"
    }
   ],
   "source": [
    "len(graph_docs)"
   ]
  },
  {
   "cell_type": "code",
   "execution_count": 34,
   "id": "aad322a9407f4ff0",
   "metadata": {
    "ExecuteTime": {
     "end_time": "2025-01-05T05:18:50.192076400Z",
     "start_time": "2025-01-05T05:18:50.146711200Z"
    },
    "collapsed": false
   },
   "outputs": [
    {
     "name": "stdout",
     "output_type": "stream",
     "text": [
      "[GraphDocument(nodes=[Node(id='衾', type='Entity', properties={}), Node(id='ghost', type='Entity', properties={}), Node(id='鬼', type='Entity', properties={}), Node(id='公', type='Person', properties={})], relationships=[Relationship(source=Node(id='公', type='Person', properties={}), target=Node(id='ghost', type='Entity', properties={}), type='WAS_ATTACKED_BY', properties={}), Relationship(source=Node(id='鬼', type='Entity', properties={}), target=Node(id='公', type='Person', properties={}), type='ATTACKED', properties={}), Relationship(source=Node(id='衾', type='Entity', properties={}), target=Node(id='鬼', type='Entity', properties={}), type='WAS_CLUTCHED_BY', properties={}), Relationship(source=Node(id='公', type='Person', properties={}), target=Node(id='鬼', type='Entity', properties={}), type='SUFFERED_CLAWING', properties={})], source=Document(metadata={}, page_content='�长三寸许，舌动喉鸣，呵喇之声，响连四壁，公惧极。又念咫尺之地势无所逃，不如因而刺之。乃阴抽枕下佩刀，遽拔而所之，中腹，作石缶声。鬼大怒，伸巨爪攫公。公少缩。鬼攫得衾捽之，忿忿而去。公随衾堕，伏地号呼。\\n家人持火奔集，则门闭如故，排窗入，见公状，大骇。扶曳登床，始言其故。其验之，则衾夹于寝门之隙。启扉检照，见有爪痕如箕，五指着处皆穿。\\n既明，不敢复留，负笈而归。后问僧人，无复他异。')), GraphDocument(nodes=[Node(id='\\\\u5929\\\\u6d77\\\\u4ecb\\\\u59e3', type='Temple', properties={}), Node(id='\\\\u5357\\\\u5c71', type='Mountain', properties={}), Node(id='孙太白', type='Person', properties={})], relationships=[Relationship(source=Node(id='孙太白', type='Person', properties={}), target=Node(id='\\\\u5357\\\\u5c71', type='Mountain', properties={}), type='LIVED_IN', properties={}), Relationship(source=Node(id='孙太白', type='Person', properties={}), target=Node(id='\\\\u5929\\\\u6d77\\\\u4ecb\\\\u59e3', type='Temple', properties={}), type='VISITED', properties={}), Relationship(source=Node(id='\\\\u5357\\\\u5c71', type='Mountain', properties={}), target=Node(id='\\\\u5929\\\\u6d77\\\\u4ecb\\\\u59e3', type='Temple', properties={}), type='LOCATED_AT', properties={}), Relationship(source=Node(id='孙太白', type='Person', properties={}), target=Node(id='\\\\u5929\\\\u6d77\\\\u4ecb\\\\u59e3', type='Temple', properties={}), type='ENTERED', properties={}), Relationship(source=Node(id='\\\\u5929\\\\u6d77\\\\u4ecb\\\\u59e3', type='Temple', properties={}), target=Node(id='\\\\u5357\\\\u5c71', type='Mountain', properties={}), type='HAD_MEMBER', properties={}), Relationship(source=Node(id='孙太白', type='Person', properties={}), target=Node(id='\\\\u5929\\\\u6d77\\\\u4ecb\\\\u59e3', type='Temple', properties={}), type='OCCUPIED', properties={}), Relationship(source=Node(id='\\\\u5357\\\\u5c71', type='Mountain', properties={}), target=Node(id='\\\\u5929\\\\u6d77\\\\u4ecb\\\\u59e3', type='Temple', properties={}), type='HAD_MEMBER', properties={}), Relationship(source=Node(id='\\\\u5929\\\\u6d77\\\\u4ecb\\\\u59e3', type='Temple', properties={}), target=Node(id='\\\\u5357\\\\u5c71', type='Mountain', properties={}), type='LOCATED_AT', properties={})], source=Document(metadata={}, page_content='孙太白尝言，其曾祖肄业于南山柳沟寺。麦秋旋里，经旬始返。启斋门，则案上尘生，窗间丝满，命仆粪除，至晚始觉清爽可坐。乃拂榻陈卧具，扁扉就枕，月色已满窗矣。辗转移时，万簌俱寂。忽闻风声隆隆，山门豁然作响，窃谓寺僧失扃。注念间，风声渐近居庐，俄而房门辟矣。大疑之，思未定，声已入屋。又有靴声铿铿然，渐傍寝门。心始怖。俄而寝门辟矣。忽视之，一大鬼鞠躬塞入，突立榻前，殆与梁齐。面似老瓜皮色，目光睒闪，绕室四顾，张巨口如盆，齿疏疏长三寸许，舌动喉鸣�'))]\n"
     ]
    }
   ],
   "source": [
    "if len(graph_docs) < 20:\n",
    "    print(graph_docs)"
   ]
  },
  {
   "cell_type": "code",
   "execution_count": 35,
   "id": "b2217c3faa2ec7d0",
   "metadata": {
    "ExecuteTime": {
     "end_time": "2025-01-05T05:19:21.493951700Z",
     "start_time": "2025-01-05T05:19:21.468835400Z"
    },
    "collapsed": false
   },
   "outputs": [
    {
     "data": {
      "text/plain": [
       "2"
      ]
     },
     "execution_count": 35,
     "metadata": {},
     "output_type": "execute_result"
    }
   ],
   "source": [
    "len(set([x.source.page_content for x in graph_docs]))"
   ]
  },
  {
   "cell_type": "code",
   "execution_count": 36,
   "id": "b202a0e84df35be0",
   "metadata": {
    "ExecuteTime": {
     "end_time": "2025-01-05T05:18:28.749759900Z",
     "start_time": "2025-01-05T05:18:28.725511300Z"
    },
    "collapsed": false
   },
   "outputs": [
    {
     "data": {
      "text/plain": [
       "'�长三寸许，舌动喉鸣，呵喇之声，响连四壁，公惧极。又念咫尺之地势无所逃，不如因而刺之。乃阴抽枕下佩刀，遽拔而所之，中腹，作石缶声。鬼大怒，伸巨爪攫公。公少缩。鬼攫得衾捽之，忿忿而去。公随衾堕，伏地号呼。\\n家人持火奔集，则门闭如故，排窗入，见公状，大骇。扶曳登床，始言其故。其验之，则衾夹于寝门之隙。启扉检照，见有爪痕如箕，五指着处皆穿。\\n既明，不敢复留，负笈而归。后问僧人，无复他异。'"
      ]
     },
     "execution_count": 36,
     "metadata": {},
     "output_type": "execute_result"
    }
   ],
   "source": [
    "graph_docs[0].source.page_content"
   ]
  },
  {
   "cell_type": "code",
   "execution_count": 37,
   "id": "d9707b1ab1754eff",
   "metadata": {
    "ExecuteTime": {
     "end_time": "2025-01-03T13:18:46.980076700Z",
     "start_time": "2025-01-03T11:21:52.965182400Z"
    },
    "collapsed": false
   },
   "outputs": [
    {
     "data": {
      "application/vnd.jupyter.widget-view+json": {
       "model_id": "b7ea825a86484f37807cef62eac5f40c",
       "version_major": 2,
       "version_minor": 0
      },
      "text/plain": [
       "Up:   0%|          | 0/2 [00:00<?, ?cnt/s]"
      ]
     },
     "metadata": {},
     "output_type": "display_data"
    }
   ],
   "source": [
    "for x in tqdm(graph_docs, desc='Up', unit='cnt'):\n",
    "    try:\n",
    "        graph.add_graph_documents(\n",
    "          [x], \n",
    "          baseEntityLabel=True, \n",
    "          include_source=True\n",
    "        )\n",
    "    except Exception as e:\n",
    "        print('ERROR: ', str(e))\n",
    "        print(x)"
   ]
  },
  {
   "cell_type": "code",
   "execution_count": 40,
   "id": "54d2165df9908783",
   "metadata": {
    "ExecuteTime": {
     "end_time": "2025-01-03T11:20:47.995136400Z",
     "start_time": "2025-01-03T11:20:39.296532300Z"
    },
    "collapsed": false
   },
   "outputs": [],
   "source": [
    "# graph.add_graph_documents(\n",
    "#   graph_docs[:-1], \n",
    "#   baseEntityLabel=True, \n",
    "#   include_source=True\n",
    "# )"
   ]
  },
  {
   "cell_type": "code",
   "execution_count": 41,
   "id": "40e9727e69930830",
   "metadata": {
    "ExecuteTime": {
     "start_time": "2025-01-03T07:33:41.779002300Z"
    },
    "collapsed": false
   },
   "outputs": [],
   "source": [
    "# from tqdm.notebook import tqdm\n",
    "# for doc_ in tqdm(docs):\n",
    "#     try:\n",
    "#         graph_docs = llm_transformer.convert_to_graph_documents([doc_])\n",
    "#     except Exception as e:\n",
    "#         print('ERROR: ', str(e))\n",
    "#         continue\n",
    "#     graph.add_graph_documents(\n",
    "#       graph_docs, \n",
    "#       baseEntityLabel=True, \n",
    "#       include_source=True\n",
    "#     )"
   ]
  },
  {
   "cell_type": "markdown",
   "id": "c0d7153df164dcbc",
   "metadata": {
    "collapsed": false
   },
   "source": [
    "-\n",
    "---\n",
    "-"
   ]
  },
  {
   "cell_type": "code",
   "execution_count": 42,
   "id": "6f5f79d67d6b35ad",
   "metadata": {
    "ExecuteTime": {
     "end_time": "2025-01-05T05:04:02.864764100Z",
     "start_time": "2025-01-05T05:04:02.376375700Z"
    },
    "collapsed": false
   },
   "outputs": [
    {
     "data": {
      "application/vnd.jupyter.widget-view+json": {
       "model_id": "11cc7a4e9a8341619af3b021de92d35e",
       "version_major": 2,
       "version_minor": 0
      },
      "text/plain": [
       "GraphWidget(layout=Layout(height='650px', width='100%'))"
      ]
     },
     "metadata": {},
     "output_type": "display_data"
    }
   ],
   "source": [
    "from neo4j import GraphDatabase\n",
    "\n",
    "# 直接显示给定 Cypher 查询生成的图形\n",
    "default_cypher = \"MATCH (s)-[r:!MENTIONS]->(t) RETURN s,r,t LIMIT 50\"\n",
    "\n",
    "def showGraph(cypher: str = default_cypher):\n",
    "    # create a neo4j session to run queries\n",
    "    driver = GraphDatabase.driver(\n",
    "        uri = os.environ[\"NEO4J_URI\"],\n",
    "        auth = (os.environ[\"NEO4J_USERNAME\"],\n",
    "                os.environ[\"NEO4J_PASSWORD\"]))\n",
    "    session = driver.session()\n",
    "    widget = GraphWidget(graph = session.run(cypher).graph())\n",
    "    widget.node_label_mapping = 'id'\n",
    "    #display(widget)\n",
    "    return widget\n",
    "\n",
    "widget = showGraph()\n",
    "widget"
   ]
  },
  {
   "cell_type": "code",
   "execution_count": 43,
   "id": "915e9bb0b14da51",
   "metadata": {
    "ExecuteTime": {
     "start_time": "2025-01-05T05:04:02.782776300Z"
    },
    "collapsed": false
   },
   "outputs": [],
   "source": [
    "model_name = \"sentence-transformers/all-MiniLM-L6-v2\"\n",
    "model_kwargs = {'device': 'cuda'}\n",
    "encode_kwargs = {'normalize_embeddings': False}\n",
    "hf = HuggingFaceEmbeddings(\n",
    "    model_name=model_name,\n",
    "    model_kwargs=model_kwargs,\n",
    "    encode_kwargs=encode_kwargs\n",
    ")"
   ]
  },
  {
   "cell_type": "code",
   "execution_count": 41,
   "id": "31d13eae17a8a5a2",
   "metadata": {
    "ExecuteTime": {
     "start_time": "2025-01-05T05:04:02.863764800Z"
    },
    "collapsed": false
   },
   "outputs": [],
   "source": [
    "vector_index = Neo4jVector.from_existing_graph(\n",
    "    hf,\n",
    "    search_type=\"hybrid\",\n",
    "    node_label=\"Document\",\n",
    "    text_node_properties=[\"text\"],\n",
    "    embedding_node_property=\"embedding\"\n",
    ")"
   ]
  },
  {
   "cell_type": "code",
   "execution_count": 50,
   "id": "a542c22164d3036",
   "metadata": {
    "ExecuteTime": {
     "end_time": "2025-01-05T05:04:03.074860Z",
     "start_time": "2025-01-05T05:04:03.040868700Z"
    },
    "collapsed": false
   },
   "outputs": [],
   "source": [
    "# Retriever\n",
    "\n",
    "graph.query(\n",
    "    \"CREATE FULLTEXT INDEX entity IF NOT EXISTS FOR (e:__Entity__) ON EACH [e.id]\")\n",
    "\n",
    "# Extract entities from text\n",
    "class Entities(BaseModel):\n",
    "    \"\"\"Identifying information about entities.\"\"\" \n",
    "\n",
    "    names: List[str] = Field(\n",
    "        ...,\n",
    "        description=\"All the person, organization, or business entities that \"\n",
    "        \"appear in the text\",\n",
    "    )\n",
    "\n",
    "prompt = ChatPromptTemplate.from_messages(\n",
    "    [\n",
    "        (\n",
    "            \"system\",\n",
    "            \"您正在从文本中提取 organization 和 person 实体。并且只返回json格式的输出！json中，只需要有res键，值为一个列表，内容你找到的所有organization和person实体名。\",\n",
    "        ),\n",
    "        (\n",
    "            \"human\",\n",
    "            \"使用给定的格式从以下内容中提取信息\"\n",
    "            \"input: {question}\",\n",
    "        ),\n",
    "    ]\n",
    ")\n",
    "\n",
    "import json\n",
    "def res2json(res):\n",
    "    try:\n",
    "        resdic = json.loads(res)\n",
    "    except:\n",
    "        # pattern = r'```json(.*?)```'\n",
    "        staridx = res.find('```json')\n",
    "        resdic = res[staridx+len('```json'):res.find('```', staridx+1)]\n",
    "        resdic = json.loads(resdic)\n",
    "        # print(resdic)\n",
    "        # print(type(resdic))\n",
    "    return resdic\n",
    "class outHelper:\n",
    "    def __init__(self):\n",
    "        pass\n",
    "    def invoke(self, res) -> Entities:\n",
    "        return res2json(res.content)\n",
    "    \n",
    "    def __call__(self, res) -> Entities:\n",
    "        return res2json(res.content)\n",
    "\n",
    "entity_chain = prompt | llm | outHelper()"
   ]
  },
  {
   "cell_type": "code",
   "execution_count": 51,
   "id": "8e8358630e4e1ae5",
   "metadata": {
    "ExecuteTime": {
     "end_time": "2025-01-05T05:04:03.257438200Z",
     "start_time": "2025-01-05T05:04:03.212459200Z"
    },
    "collapsed": false
   },
   "outputs": [
    {
     "data": {
      "text/plain": [
       "ChatPromptTemplate(input_variables=['question'], input_types={}, partial_variables={}, messages=[SystemMessagePromptTemplate(prompt=PromptTemplate(input_variables=[], input_types={}, partial_variables={}, template='您正在从文本中提取 organization 和 person 实体。并且只返回json格式的输出！json中，只需要有res键，值为一个列表，内容你找到的所有organization和person实体名。'), additional_kwargs={}), HumanMessagePromptTemplate(prompt=PromptTemplate(input_variables=['question'], input_types={}, partial_variables={}, template='使用给定的格式从以下内容中提取信息input: {question}'), additional_kwargs={})])\n",
       "| LLM_for_Openai(client=<openai.resources.chat.completions.Completions object at 0x71d3e743e4e0>, async_client=<openai.resources.chat.completions.AsyncCompletions object at 0x71d3e743c230>, root_client=<openai.OpenAI object at 0x71d3e79b7020>, root_async_client=<openai.AsyncOpenAI object at 0x71d3e7426060>, model_name='ernie-speed-128k', model_kwargs={}, openai_api_key=SecretStr('**********'))\n",
       "| RunnableLambda(...)"
      ]
     },
     "execution_count": 51,
     "metadata": {},
     "output_type": "execute_result"
    }
   ],
   "source": [
    "entity_chain"
   ]
  },
  {
   "cell_type": "code",
   "execution_count": 52,
   "id": "1384df25",
   "metadata": {},
   "outputs": [],
   "source": [
    "req = '孙太白？'"
   ]
  },
  {
   "cell_type": "code",
   "execution_count": 53,
   "id": "36e53f4b2e7daf2e",
   "metadata": {
    "ExecuteTime": {
     "end_time": "2025-01-05T05:04:03.439013400Z",
     "start_time": "2025-01-05T05:04:03.391653100Z"
    },
    "collapsed": false
   },
   "outputs": [
    {
     "data": {
      "text/plain": [
       "ChatPromptValue(messages=[SystemMessage(content='您正在从文本中提取 organization 和 person 实体。并且只返回json格式的输出！json中，只需要有res键，值为一个列表，内容你找到的所有organization和person实体名。', additional_kwargs={}, response_metadata={}), HumanMessage(content='使用给定的格式从以下内容中提取信息input: 孙太白？', additional_kwargs={}, response_metadata={})])"
      ]
     },
     "execution_count": 53,
     "metadata": {},
     "output_type": "execute_result"
    }
   ],
   "source": [
    "x = prompt.invoke({\"question\": req})\n",
    "x"
   ]
  },
  {
   "cell_type": "code",
   "execution_count": 54,
   "id": "890c38a546e52bb1",
   "metadata": {
    "ExecuteTime": {
     "end_time": "2025-01-05T05:04:03.603056400Z",
     "start_time": "2025-01-05T05:04:03.564931100Z"
    },
    "collapsed": false
   },
   "outputs": [
    {
     "data": {
      "text/plain": [
       "AIMessage(content='```json\\n{\\n  \"res\": [\\n    \"孙太白（person）\"\\n  ]\\n}\\n```', additional_kwargs={'refusal': None}, response_metadata={'token_usage': {'completion_tokens': 26, 'prompt_tokens': 52, 'total_tokens': 78, 'completion_tokens_details': None, 'prompt_tokens_details': None}, 'model_name': 'ernie-speed-128k', 'system_fingerprint': None, 'finish_reason': 'normal', 'logprobs': None}, id='run-70808aee-c4aa-474e-b103-10d5b2b335ca-0', usage_metadata={'input_tokens': 52, 'output_tokens': 26, 'total_tokens': 78, 'input_token_details': {}, 'output_token_details': {}})"
      ]
     },
     "execution_count": 54,
     "metadata": {},
     "output_type": "execute_result"
    }
   ],
   "source": [
    "res = llm.invoke(x)\n",
    "res"
   ]
  },
  {
   "cell_type": "code",
   "execution_count": 55,
   "id": "a30e663668b4b6d7",
   "metadata": {
    "ExecuteTime": {
     "end_time": "2025-01-05T05:04:03.803127Z",
     "start_time": "2025-01-05T05:04:03.754813800Z"
    },
    "collapsed": false
   },
   "outputs": [
    {
     "data": {
      "text/plain": [
       "1"
      ]
     },
     "execution_count": 55,
     "metadata": {},
     "output_type": "execute_result"
    }
   ],
   "source": [
    "len(res2json(res.content).keys())"
   ]
  },
  {
   "cell_type": "code",
   "execution_count": 57,
   "id": "be5bd7ead6e3f4aa",
   "metadata": {
    "ExecuteTime": {
     "end_time": "2025-01-05T05:04:03.983756200Z",
     "start_time": "2025-01-05T05:04:03.944821Z"
    },
    "collapsed": false
   },
   "outputs": [
    {
     "data": {
      "text/plain": [
       "['孙太白', 'person']"
      ]
     },
     "execution_count": 57,
     "metadata": {},
     "output_type": "execute_result"
    }
   ],
   "source": [
    "res = entity_chain.invoke({\"question\": req})\n",
    "res['res']"
   ]
  },
  {
   "cell_type": "code",
   "execution_count": 84,
   "id": "51ee259ffa1a4a75",
   "metadata": {
    "ExecuteTime": {
     "end_time": "2025-01-05T05:03:52.300134700Z",
     "start_time": "2025-01-05T05:03:52.287133700Z"
    },
    "collapsed": false
   },
   "outputs": [],
   "source": [
    "def generate_full_text_query(input: str) -> str:\n",
    "    \"\"\"为给定的输入字符串生成全文搜索查询。\n",
    "\n",
    "    此函数构造适合全文搜索的查询字符串。\n",
    "    它通过将输入字符串拆分为单词并附加一个\n",
    "    相似度阈值（~2 个更改的字符）与每个单词匹配，然后组合\n",
    "    他们使用 AND 运算符。用于映射用户问题中的实体\n",
    "    添加到数据库值中，并允许一些拼写错误。\"\"\"\n",
    "    full_text_query = \"\"\n",
    "    words = [el for el in remove_lucene_chars(input).split() if el]\n",
    "    for word in words[:-1]:\n",
    "        full_text_query += f\" {word}~2 AND\"\n",
    "    full_text_query += f\" {words[-1]}~2\"\n",
    "    # return full_text_query.strip()\n",
    "    return input"
   ]
  },
  {
   "cell_type": "code",
   "execution_count": 91,
   "id": "323cc4249c0336b7",
   "metadata": {
    "ExecuteTime": {
     "end_time": "2025-01-05T05:03:52.663696900Z",
     "start_time": "2025-01-05T05:03:52.637698300Z"
    },
    "collapsed": false
   },
   "outputs": [],
   "source": [
    "def structured_retriever(question: str, retry= 3, debug= False) -> str:\n",
    "    \"\"\"\n",
    "    Collects the neighborhood of entities mentioned\n",
    "    in the question\n",
    "    \"\"\"\n",
    "    result = \"\"\n",
    "    for i in range(retry): \n",
    "        try:\n",
    "            entities = entity_chain.invoke({\"question\": question})\n",
    "        \n",
    "            if isinstance(entities['res'], list):\n",
    "                break\n",
    "        except Exception as e:\n",
    "            print('ERROR: 格式错误: ', str(e))\n",
    "    else:\n",
    "        print('ERROR: 多次重试仍然《提取到的实体》格式错误')\n",
    "        return ''\n",
    "    for entity in entities['res']:\n",
    "        if debug:\n",
    "            print('分割出的实体列表为: ', str(entity))\n",
    "        response = graph.query(\n",
    "            \"\"\"\n",
    "            CALL db.index.fulltext.queryNodes('entity', $query, {limit:2})\n",
    "            YIELD node,score\n",
    "            MATCH (node)-[r]-(neighbor) // 通过这步匹配来明确neighbor的来源，可根据实际关系调整这里的模式\n",
    "            CALL (node, neighbor) {\n",
    "              MATCH (node)-[r:!MENTIONS]->(neighbor)\n",
    "              RETURN node.id + ' - ' + type(r) + ' -> ' + neighbor.id AS output\n",
    "              UNION ALL\n",
    "              MATCH (node)<-[r:!MENTIONS]-(neighbor)\n",
    "              RETURN neighbor.id + ' - ' + type(r) + ' -> ' +  node.id AS output\n",
    "            }\n",
    "            RETURN output LIMIT 50\n",
    "            \"\"\",\n",
    "            {\"query\": generate_full_text_query(entity)},\n",
    "        )\n",
    "        if debug:\n",
    "            print('generate_full_text_query(entity): ', generate_full_text_query(entity))\n",
    "        result += \"\\n\".join([el['output'] for el in response])\n",
    "    return result\n",
    "    "
   ]
  },
  {
   "cell_type": "code",
   "execution_count": 92,
   "id": "42cb1f5c7747b268",
   "metadata": {
    "ExecuteTime": {
     "end_time": "2025-01-05T05:03:53.172137500Z",
     "start_time": "2025-01-05T05:03:53.105803200Z"
    },
    "collapsed": false
   },
   "outputs": [
    {
     "name": "stdout",
     "output_type": "stream",
     "text": [
      "分割出的实体列表为:  孙太白\n",
      "generate_full_text_query(entity):  孙太白\n",
      "分割出的实体列表为:  person\n",
      "generate_full_text_query(entity):  person\n"
     ]
    },
    {
     "data": {
      "text/plain": [
       "'孙太白 - 曾提及 -> 曾祖肄业于南山柳沟寺\\n孙太白 - SPEAKS_OF -> 曾祖\\n风声 - HEARD_BY -> 孙太白\\n孙太白的曾祖 - 曾肄业于 -> 南山柳沟寺'"
      ]
     },
     "execution_count": 92,
     "metadata": {},
     "output_type": "execute_result"
    }
   ],
   "source": [
    "structured_retriever(req, debug=True)"
   ]
  },
  {
   "cell_type": "code",
   "execution_count": 93,
   "id": "8603028b14228fbb",
   "metadata": {
    "ExecuteTime": {
     "end_time": "2025-01-05T04:53:35.179917600Z",
     "start_time": "2025-01-05T04:53:35.124073300Z"
    },
    "collapsed": false
   },
   "outputs": [],
   "source": [
    "def retriever(question: str, debug=False, retry= 3):\n",
    "    if debug:\n",
    "        print(f\"Search query: {question}\")\n",
    "    structured_data = structured_retriever(question, debug=debug, retry= retry)\n",
    "    unstructured_data = [el.page_content for el in vector_index.similarity_search(question)]\n",
    "    final_data = f\"\"\"Structured data:\n",
    "{structured_data}\n",
    "Unstructured data:\n",
    "{\"#Document \". join(unstructured_data)}\n",
    "    \"\"\"\n",
    "    if debug:\n",
    "        print(f'~ final_data({question}): ', final_data)\n",
    "    return final_data"
   ]
  },
  {
   "cell_type": "code",
   "execution_count": 94,
   "id": "246a7a20",
   "metadata": {},
   "outputs": [
    {
     "name": "stdout",
     "output_type": "stream",
     "text": [
      "Search query: 孙太白？\n",
      "分割出的实体列表为:  孙太白（person）\n",
      "generate_full_text_query(entity):  孙太白（person）\n"
     ]
    },
    {
     "name": "stderr",
     "output_type": "stream",
     "text": [
      "Received notification from DBMS server: {severity: WARNING} {code: Neo.ClientNotification.Statement.FeatureDeprecationWarning} {category: DEPRECATION} {title: This feature is deprecated and will be removed in future versions.} {description: CALL subquery without a variable scope clause is now deprecated. Use CALL () { ... }} {position: line: 1, column: 1, offset: 0} for query: \"CALL { CALL db.index.vector.queryNodes($index, $k, $embedding) YIELD node, score WITH collect({node:node, score:score}) AS nodes, max(score) AS max UNWIND nodes AS n RETURN n.node AS node, (n.score / max) AS score UNION CALL db.index.fulltext.queryNodes($keyword_index, $query, {limit: $k}) YIELD node, score WITH collect({node:node, score:score}) AS nodes, max(score) AS max UNWIND nodes AS n RETURN n.node AS node, (n.score / max) AS score } WITH node, max(score) AS score ORDER BY score DESC LIMIT $k RETURN reduce(str='', k IN ['text'] | str + '\\\\n' + k + ': ' + coalesce(node[k], '')) AS text, node {.*, `embedding`: Null, id: Null, `text`: Null} AS metadata, score\"\n"
     ]
    },
    {
     "name": "stdout",
     "output_type": "stream",
     "text": [
      "~ final_data(孙太白？):  Structured data:\n",
      "孙太白 - 曾提及 -> 曾祖肄业于南山柳沟寺\n",
      "孙太白 - SPEAKS_OF -> 曾祖\n",
      "风声 - HEARD_BY -> 孙太白\n",
      "孙太白的曾祖 - 曾肄业于 -> 南山柳沟寺\n",
      "Unstructured data:\n",
      "\n",
      "text: 孙太白尝言，其曾祖肄业于南山柳沟寺。麦秋旋里，经旬始返。启斋门，则案上尘生，窗间丝满，命仆粪除，至晚始觉清爽可坐。乃拂榻陈卧具，扁扉就枕，月色已满窗矣。辗转移时，万簌俱寂。忽闻风声隆隆，山门豁然作响，窃谓寺僧失扃。注念间，风声渐近居庐，俄而房门辟矣。大疑之，思未定，声已入屋。又有靴声铿铿然，渐傍寝门。心始怖。俄而寝门辟矣。忽视之，一大鬼鞠躬塞入，突立榻前，殆与梁齐。面似老瓜皮色，目光睒闪，绕室四顾，张巨口如盆，齿疏疏长三寸许，舌动喉鸣�#Document \n",
      "text: �长三寸许，舌动喉鸣，呵喇之声，响连四壁，公惧极。又念咫尺之地势无所逃，不如因而刺之。乃阴抽枕下佩刀，遽拔而所之，中腹，作石缶声。鬼大怒，伸巨爪攫公。公少缩。鬼攫得衾捽之，忿忿而去。公随衾堕，伏地号呼。\n",
      "家人持火奔集，则门闭如故，排窗入，见公状，大骇。扶曳登床，始言其故。其验之，则衾夹于寝门之隙。启扉检照，见有爪痕如箕，五指着处皆穿。\n",
      "既明，不敢复留，负笈而归。后问僧人，无复他异。\n",
      "    \n"
     ]
    },
    {
     "data": {
      "text/plain": [
       "'Structured data:\\n孙太白 - 曾提及 -> 曾祖肄业于南山柳沟寺\\n孙太白 - SPEAKS_OF -> 曾祖\\n风声 - HEARD_BY -> 孙太白\\n孙太白的曾祖 - 曾肄业于 -> 南山柳沟寺\\nUnstructured data:\\n\\ntext: 孙太白尝言，其曾祖肄业于南山柳沟寺。麦秋旋里，经旬始返。启斋门，则案上尘生，窗间丝满，命仆粪除，至晚始觉清爽可坐。乃拂榻陈卧具，扁扉就枕，月色已满窗矣。辗转移时，万簌俱寂。忽闻风声隆隆，山门豁然作响，窃谓寺僧失扃。注念间，风声渐近居庐，俄而房门辟矣。大疑之，思未定，声已入屋。又有靴声铿铿然，渐傍寝门。心始怖。俄而寝门辟矣。忽视之，一大鬼鞠躬塞入，突立榻前，殆与梁齐。面似老瓜皮色，目光睒闪，绕室四顾，张巨口如盆，齿疏疏长三寸许，舌动喉鸣�#Document \\ntext: �长三寸许，舌动喉鸣，呵喇之声，响连四壁，公惧极。又念咫尺之地势无所逃，不如因而刺之。乃阴抽枕下佩刀，遽拔而所之，中腹，作石缶声。鬼大怒，伸巨爪攫公。公少缩。鬼攫得衾捽之，忿忿而去。公随衾堕，伏地号呼。\\n家人持火奔集，则门闭如故，排窗入，见公状，大骇。扶曳登床，始言其故。其验之，则衾夹于寝门之隙。启扉检照，见有爪痕如箕，五指着处皆穿。\\n既明，不敢复留，负笈而归。后问僧人，无复他异。\\n    '"
      ]
     },
     "execution_count": 94,
     "metadata": {},
     "output_type": "execute_result"
    }
   ],
   "source": [
    "retriever(req, debug=True)"
   ]
  },
  {
   "cell_type": "code",
   "execution_count": 108,
   "id": "c3da654b7e347a68",
   "metadata": {
    "ExecuteTime": {
     "end_time": "2025-01-05T04:53:43.343380400Z",
     "start_time": "2025-01-05T04:53:40.284481100Z"
    },
    "collapsed": false
   },
   "outputs": [],
   "source": [
    "# Condense a chat history and follow-up question into a standalone question\n",
    "_template = \"\"\"Given the following conversation and a follow up question, rephrase the follow up question to be a standalone question,\n",
    "in its original language.\n",
    "Chat History:\n",
    "{chat_history}\n",
    "Follow Up Input: {question}\n",
    "Standalone question:\"\"\"  # noqa: E501\n",
    "CONDENSE_QUESTION_PROMPT = PromptTemplate.from_template(_template)\n",
    "\n",
    "def _format_chat_history(chat_history: List[Tuple[str, str]]) -> List:\n",
    "    buffer = []\n",
    "    for human, ai in chat_history:\n",
    "        buffer.append(HumanMessage(content=human))\n",
    "        buffer.append(AIMessage(content=ai))\n",
    "    return buffer\n",
    "\n",
    "_search_query = RunnableBranch(\n",
    "    # If input includes chat_history, we condense it with the follow-up question\n",
    "    (\n",
    "        RunnableLambda(lambda x: bool(x.get(\"chat_history\"))).with_config(\n",
    "            run_name=\"HasChatHistoryCheck\"\n",
    "        ),  # Condense follow-up question and chat into a standalone_question\n",
    "        RunnablePassthrough.assign(\n",
    "            chat_history=lambda x: _format_chat_history(x[\"chat_history\"])\n",
    "        )\n",
    "        | CONDENSE_QUESTION_PROMPT\n",
    "        | ChatOpenAI(temperature=0)\n",
    "        | StrOutputParser(),\n",
    "    ),\n",
    "    # Else, we have no chat history, so just pass through the question\n",
    "    RunnableLambda(lambda x : x[\"question\"]),\n",
    ")"
   ]
  },
  {
   "cell_type": "code",
   "execution_count": 130,
   "id": "856e5e10eb5875f5",
   "metadata": {
    "ExecuteTime": {
     "end_time": "2025-01-05T04:53:59.439651600Z",
     "start_time": "2025-01-05T04:53:59.181811400Z"
    },
    "collapsed": false
   },
   "outputs": [],
   "source": [
    "template = \"\"\"Answer the question based only on the following context:\n",
    "{context}\n",
    "\n",
    "Question: {question}\n",
    "Use natural language and be concise.\n",
    "Answer:\"\"\"\n",
    "prompt = ChatPromptTemplate.from_template(template)\n",
    "\n",
    "chain = (\n",
    "    RunnableParallel(\n",
    "        {\n",
    "            \"context\": _search_query | retriever,\n",
    "            \"question\": RunnablePassthrough(),\n",
    "        }\n",
    "    )\n",
    "    | prompt\n",
    "    # | llm\n",
    "    # | StrOutputParser()\n",
    ")"
   ]
  },
  {
   "cell_type": "code",
   "execution_count": 131,
   "id": "ade4da4e",
   "metadata": {},
   "outputs": [],
   "source": [
    "req = '鬼的描述'"
   ]
  },
  {
   "cell_type": "code",
   "execution_count": 132,
   "id": "9fdfba15f63afd",
   "metadata": {
    "ExecuteTime": {
     "end_time": "2025-01-05T04:55:23.472663Z",
     "start_time": "2025-01-05T04:54:30.802022900Z"
    },
    "collapsed": false
   },
   "outputs": [
    {
     "name": "stderr",
     "output_type": "stream",
     "text": [
      "Received notification from DBMS server: {severity: WARNING} {code: Neo.ClientNotification.Statement.FeatureDeprecationWarning} {category: DEPRECATION} {title: This feature is deprecated and will be removed in future versions.} {description: CALL subquery without a variable scope clause is now deprecated. Use CALL () { ... }} {position: line: 1, column: 1, offset: 0} for query: \"CALL { CALL db.index.vector.queryNodes($index, $k, $embedding) YIELD node, score WITH collect({node:node, score:score}) AS nodes, max(score) AS max UNWIND nodes AS n RETURN n.node AS node, (n.score / max) AS score UNION CALL db.index.fulltext.queryNodes($keyword_index, $query, {limit: $k}) YIELD node, score WITH collect({node:node, score:score}) AS nodes, max(score) AS max UNWIND nodes AS n RETURN n.node AS node, (n.score / max) AS score } WITH node, max(score) AS score ORDER BY score DESC LIMIT $k RETURN reduce(str='', k IN ['text'] | str + '\\\\n' + k + ': ' + coalesce(node[k], '')) AS text, node {.*, `embedding`: Null, id: Null, `text`: Null} AS metadata, score\"\n"
     ]
    }
   ],
   "source": [
    "res = chain.invoke({\"question\": req})"
   ]
  },
  {
   "cell_type": "code",
   "execution_count": 133,
   "id": "e97718751cae459",
   "metadata": {
    "collapsed": false
   },
   "outputs": [
    {
     "data": {
      "text/plain": [
       "\"Answer the question based only on the following context:\\nStructured data:\\n\\nUnstructured data:\\n\\ntext: 孙太白尝言，其曾祖肄业于南山柳沟寺。麦秋旋里，经旬始返。启斋门，则案上尘生，窗间丝满，命仆粪除，至晚始觉清爽可坐。乃拂榻陈卧具，扁扉就枕，月色已满窗矣。辗转移时，万簌俱寂。忽闻风声隆隆，山门豁然作响，窃谓寺僧失扃。注念间，风声渐近居庐，俄而房门辟矣。大疑之，思未定，声已入屋。又有靴声铿铿然，渐傍寝门。心始怖。俄而寝门辟矣。忽视之，一大鬼鞠躬塞入，突立榻前，殆与梁齐。面似老瓜皮色，目光睒闪，绕室四顾，张巨口如盆，齿疏疏长三寸许，舌动喉鸣�#Document \\ntext: �长三寸许，舌动喉鸣，呵喇之声，响连四壁，公惧极。又念咫尺之地势无所逃，不如因而刺之。乃阴抽枕下佩刀，遽拔而所之，中腹，作石缶声。鬼大怒，伸巨爪攫公。公少缩。鬼攫得衾捽之，忿忿而去。公随衾堕，伏地号呼。\\n家人持火奔集，则门闭如故，排窗入，见公状，大骇。扶曳登床，始言其故。其验之，则衾夹于寝门之隙。启扉检照，见有爪痕如箕，五指着处皆穿。\\n既明，不敢复留，负笈而归。后问僧人，无复他异。\\n    \\n\\nQuestion: {'question': '鬼的描述'}\\nUse natural language and be concise.\\nAnswer:\""
      ]
     },
     "execution_count": 133,
     "metadata": {},
     "output_type": "execute_result"
    }
   ],
   "source": [
    "res.messages[0].content"
   ]
  },
  {
   "cell_type": "code",
   "execution_count": 125,
   "id": "f90ad604",
   "metadata": {},
   "outputs": [
    {
     "ename": "AuthenticationError",
     "evalue": "Error code: 401 - {'error': {'message': 'Incorrect API key provided: bce-v3/A***************************************************************57da. You can find your API key at https://platform.openai.com/account/api-keys.', 'type': 'invalid_request_error', 'param': None, 'code': 'invalid_api_key'}}",
     "output_type": "error",
     "traceback": [
      "\u001b[0;31m---------------------------------------------------------------------------\u001b[0m",
      "\u001b[0;31mAuthenticationError\u001b[0m                       Traceback (most recent call last)",
      "Cell \u001b[0;32mIn[125], line 1\u001b[0m\n\u001b[0;32m----> 1\u001b[0m res \u001b[38;5;241m=\u001b[39m \u001b[43mchain\u001b[49m\u001b[38;5;241;43m.\u001b[39;49m\u001b[43minvoke\u001b[49m\u001b[43m(\u001b[49m\n\u001b[1;32m      2\u001b[0m \u001b[43m    \u001b[49m\u001b[43m{\u001b[49m\n\u001b[1;32m      3\u001b[0m \u001b[43m        \u001b[49m\u001b[38;5;124;43m\"\u001b[39;49m\u001b[38;5;124;43mquestion\u001b[39;49m\u001b[38;5;124;43m\"\u001b[39;49m\u001b[43m:\u001b[49m\u001b[43m \u001b[49m\u001b[38;5;124;43m\"\u001b[39;49m\u001b[38;5;124;43m鬼是怎么伤人的?\u001b[39;49m\u001b[38;5;124;43m\"\u001b[39;49m\u001b[43m,\u001b[49m\n\u001b[1;32m      4\u001b[0m \u001b[43m        \u001b[49m\u001b[38;5;124;43m\"\u001b[39;49m\u001b[38;5;124;43mchat_history\u001b[39;49m\u001b[38;5;124;43m\"\u001b[39;49m\u001b[43m:\u001b[49m\u001b[43m \u001b[49m\u001b[43m[\u001b[49m\u001b[43m(\u001b[49m\u001b[38;5;124;43m\"\u001b[39;49m\u001b[38;5;124;43m鬼的描述?\u001b[39;49m\u001b[38;5;124;43m\"\u001b[39;49m\u001b[43m,\u001b[49m\u001b[43m \u001b[49m\u001b[38;5;124;43m\"\u001b[39;49m\u001b[38;5;124;43m鬼身形高大，与房梁差不多高，脸色像老瓜皮，目光闪烁，嘴大如盆，牙齿稀疏且长三寸左右，舌头动时喉咙有声响，还伴有靴子声，生气时会伸巨爪抓人。\u001b[39;49m\u001b[38;5;124;43m\"\u001b[39;49m\u001b[43m)\u001b[49m\u001b[43m]\u001b[49m\u001b[43m,\u001b[49m\n\u001b[1;32m      5\u001b[0m \u001b[43m    \u001b[49m\u001b[43m}\u001b[49m\n\u001b[1;32m      6\u001b[0m \u001b[43m)\u001b[49m\n",
      "File \u001b[0;32m/media/00.Data/00.User/02.wfx/app/anaconda3/envs/RAG/lib/python3.12/site-packages/langchain_core/runnables/base.py:3020\u001b[0m, in \u001b[0;36mRunnableSequence.invoke\u001b[0;34m(self, input, config, **kwargs)\u001b[0m\n\u001b[1;32m   3018\u001b[0m context\u001b[38;5;241m.\u001b[39mrun(_set_config_context, config)\n\u001b[1;32m   3019\u001b[0m \u001b[38;5;28;01mif\u001b[39;00m i \u001b[38;5;241m==\u001b[39m \u001b[38;5;241m0\u001b[39m:\n\u001b[0;32m-> 3020\u001b[0m     \u001b[38;5;28minput\u001b[39m \u001b[38;5;241m=\u001b[39m \u001b[43mcontext\u001b[49m\u001b[38;5;241;43m.\u001b[39;49m\u001b[43mrun\u001b[49m\u001b[43m(\u001b[49m\u001b[43mstep\u001b[49m\u001b[38;5;241;43m.\u001b[39;49m\u001b[43minvoke\u001b[49m\u001b[43m,\u001b[49m\u001b[43m \u001b[49m\u001b[38;5;28;43minput\u001b[39;49m\u001b[43m,\u001b[49m\u001b[43m \u001b[49m\u001b[43mconfig\u001b[49m\u001b[43m,\u001b[49m\u001b[43m \u001b[49m\u001b[38;5;241;43m*\u001b[39;49m\u001b[38;5;241;43m*\u001b[39;49m\u001b[43mkwargs\u001b[49m\u001b[43m)\u001b[49m\n\u001b[1;32m   3021\u001b[0m \u001b[38;5;28;01melse\u001b[39;00m:\n\u001b[1;32m   3022\u001b[0m     \u001b[38;5;28minput\u001b[39m \u001b[38;5;241m=\u001b[39m context\u001b[38;5;241m.\u001b[39mrun(step\u001b[38;5;241m.\u001b[39minvoke, \u001b[38;5;28minput\u001b[39m, config)\n",
      "File \u001b[0;32m/media/00.Data/00.User/02.wfx/app/anaconda3/envs/RAG/lib/python3.12/site-packages/langchain_core/runnables/base.py:3725\u001b[0m, in \u001b[0;36mRunnableParallel.invoke\u001b[0;34m(self, input, config, **kwargs)\u001b[0m\n\u001b[1;32m   3720\u001b[0m     \u001b[38;5;28;01mwith\u001b[39;00m get_executor_for_config(config) \u001b[38;5;28;01mas\u001b[39;00m executor:\n\u001b[1;32m   3721\u001b[0m         futures \u001b[38;5;241m=\u001b[39m [\n\u001b[1;32m   3722\u001b[0m             executor\u001b[38;5;241m.\u001b[39msubmit(_invoke_step, step, \u001b[38;5;28minput\u001b[39m, config, key)\n\u001b[1;32m   3723\u001b[0m             \u001b[38;5;28;01mfor\u001b[39;00m key, step \u001b[38;5;129;01min\u001b[39;00m steps\u001b[38;5;241m.\u001b[39mitems()\n\u001b[1;32m   3724\u001b[0m         ]\n\u001b[0;32m-> 3725\u001b[0m         output \u001b[38;5;241m=\u001b[39m {key: \u001b[43mfuture\u001b[49m\u001b[38;5;241;43m.\u001b[39;49m\u001b[43mresult\u001b[49m\u001b[43m(\u001b[49m\u001b[43m)\u001b[49m \u001b[38;5;28;01mfor\u001b[39;00m key, future \u001b[38;5;129;01min\u001b[39;00m \u001b[38;5;28mzip\u001b[39m(steps, futures)}\n\u001b[1;32m   3726\u001b[0m \u001b[38;5;66;03m# finish the root run\u001b[39;00m\n\u001b[1;32m   3727\u001b[0m \u001b[38;5;28;01mexcept\u001b[39;00m \u001b[38;5;167;01mBaseException\u001b[39;00m \u001b[38;5;28;01mas\u001b[39;00m e:\n",
      "File \u001b[0;32m/media/00.Data/00.User/02.wfx/app/anaconda3/envs/RAG/lib/python3.12/concurrent/futures/_base.py:456\u001b[0m, in \u001b[0;36mFuture.result\u001b[0;34m(self, timeout)\u001b[0m\n\u001b[1;32m    454\u001b[0m     \u001b[38;5;28;01mraise\u001b[39;00m CancelledError()\n\u001b[1;32m    455\u001b[0m \u001b[38;5;28;01melif\u001b[39;00m \u001b[38;5;28mself\u001b[39m\u001b[38;5;241m.\u001b[39m_state \u001b[38;5;241m==\u001b[39m FINISHED:\n\u001b[0;32m--> 456\u001b[0m     \u001b[38;5;28;01mreturn\u001b[39;00m \u001b[38;5;28;43mself\u001b[39;49m\u001b[38;5;241;43m.\u001b[39;49m\u001b[43m__get_result\u001b[49m\u001b[43m(\u001b[49m\u001b[43m)\u001b[49m\n\u001b[1;32m    457\u001b[0m \u001b[38;5;28;01melse\u001b[39;00m:\n\u001b[1;32m    458\u001b[0m     \u001b[38;5;28;01mraise\u001b[39;00m \u001b[38;5;167;01mTimeoutError\u001b[39;00m()\n",
      "File \u001b[0;32m/media/00.Data/00.User/02.wfx/app/anaconda3/envs/RAG/lib/python3.12/concurrent/futures/_base.py:401\u001b[0m, in \u001b[0;36mFuture.__get_result\u001b[0;34m(self)\u001b[0m\n\u001b[1;32m    399\u001b[0m \u001b[38;5;28;01mif\u001b[39;00m \u001b[38;5;28mself\u001b[39m\u001b[38;5;241m.\u001b[39m_exception:\n\u001b[1;32m    400\u001b[0m     \u001b[38;5;28;01mtry\u001b[39;00m:\n\u001b[0;32m--> 401\u001b[0m         \u001b[38;5;28;01mraise\u001b[39;00m \u001b[38;5;28mself\u001b[39m\u001b[38;5;241m.\u001b[39m_exception\n\u001b[1;32m    402\u001b[0m     \u001b[38;5;28;01mfinally\u001b[39;00m:\n\u001b[1;32m    403\u001b[0m         \u001b[38;5;66;03m# Break a reference cycle with the exception in self._exception\u001b[39;00m\n\u001b[1;32m    404\u001b[0m         \u001b[38;5;28mself\u001b[39m \u001b[38;5;241m=\u001b[39m \u001b[38;5;28;01mNone\u001b[39;00m\n",
      "File \u001b[0;32m/media/00.Data/00.User/02.wfx/app/anaconda3/envs/RAG/lib/python3.12/concurrent/futures/thread.py:59\u001b[0m, in \u001b[0;36m_WorkItem.run\u001b[0;34m(self)\u001b[0m\n\u001b[1;32m     56\u001b[0m     \u001b[38;5;28;01mreturn\u001b[39;00m\n\u001b[1;32m     58\u001b[0m \u001b[38;5;28;01mtry\u001b[39;00m:\n\u001b[0;32m---> 59\u001b[0m     result \u001b[38;5;241m=\u001b[39m \u001b[38;5;28;43mself\u001b[39;49m\u001b[38;5;241;43m.\u001b[39;49m\u001b[43mfn\u001b[49m\u001b[43m(\u001b[49m\u001b[38;5;241;43m*\u001b[39;49m\u001b[38;5;28;43mself\u001b[39;49m\u001b[38;5;241;43m.\u001b[39;49m\u001b[43margs\u001b[49m\u001b[43m,\u001b[49m\u001b[43m \u001b[49m\u001b[38;5;241;43m*\u001b[39;49m\u001b[38;5;241;43m*\u001b[39;49m\u001b[38;5;28;43mself\u001b[39;49m\u001b[38;5;241;43m.\u001b[39;49m\u001b[43mkwargs\u001b[49m\u001b[43m)\u001b[49m\n\u001b[1;32m     60\u001b[0m \u001b[38;5;28;01mexcept\u001b[39;00m \u001b[38;5;167;01mBaseException\u001b[39;00m \u001b[38;5;28;01mas\u001b[39;00m exc:\n\u001b[1;32m     61\u001b[0m     \u001b[38;5;28mself\u001b[39m\u001b[38;5;241m.\u001b[39mfuture\u001b[38;5;241m.\u001b[39mset_exception(exc)\n",
      "File \u001b[0;32m/media/00.Data/00.User/02.wfx/app/anaconda3/envs/RAG/lib/python3.12/site-packages/langchain_core/runnables/base.py:3709\u001b[0m, in \u001b[0;36mRunnableParallel.invoke.<locals>._invoke_step\u001b[0;34m(step, input, config, key)\u001b[0m\n\u001b[1;32m   3707\u001b[0m context \u001b[38;5;241m=\u001b[39m copy_context()\n\u001b[1;32m   3708\u001b[0m context\u001b[38;5;241m.\u001b[39mrun(_set_config_context, child_config)\n\u001b[0;32m-> 3709\u001b[0m \u001b[38;5;28;01mreturn\u001b[39;00m \u001b[43mcontext\u001b[49m\u001b[38;5;241;43m.\u001b[39;49m\u001b[43mrun\u001b[49m\u001b[43m(\u001b[49m\n\u001b[1;32m   3710\u001b[0m \u001b[43m    \u001b[49m\u001b[43mstep\u001b[49m\u001b[38;5;241;43m.\u001b[39;49m\u001b[43minvoke\u001b[49m\u001b[43m,\u001b[49m\n\u001b[1;32m   3711\u001b[0m \u001b[43m    \u001b[49m\u001b[38;5;28;43minput\u001b[39;49m\u001b[43m,\u001b[49m\n\u001b[1;32m   3712\u001b[0m \u001b[43m    \u001b[49m\u001b[43mchild_config\u001b[49m\u001b[43m,\u001b[49m\n\u001b[1;32m   3713\u001b[0m \u001b[43m\u001b[49m\u001b[43m)\u001b[49m\n",
      "File \u001b[0;32m/media/00.Data/00.User/02.wfx/app/anaconda3/envs/RAG/lib/python3.12/site-packages/langchain_core/runnables/base.py:3020\u001b[0m, in \u001b[0;36mRunnableSequence.invoke\u001b[0;34m(self, input, config, **kwargs)\u001b[0m\n\u001b[1;32m   3018\u001b[0m context\u001b[38;5;241m.\u001b[39mrun(_set_config_context, config)\n\u001b[1;32m   3019\u001b[0m \u001b[38;5;28;01mif\u001b[39;00m i \u001b[38;5;241m==\u001b[39m \u001b[38;5;241m0\u001b[39m:\n\u001b[0;32m-> 3020\u001b[0m     \u001b[38;5;28minput\u001b[39m \u001b[38;5;241m=\u001b[39m \u001b[43mcontext\u001b[49m\u001b[38;5;241;43m.\u001b[39;49m\u001b[43mrun\u001b[49m\u001b[43m(\u001b[49m\u001b[43mstep\u001b[49m\u001b[38;5;241;43m.\u001b[39;49m\u001b[43minvoke\u001b[49m\u001b[43m,\u001b[49m\u001b[43m \u001b[49m\u001b[38;5;28;43minput\u001b[39;49m\u001b[43m,\u001b[49m\u001b[43m \u001b[49m\u001b[43mconfig\u001b[49m\u001b[43m,\u001b[49m\u001b[43m \u001b[49m\u001b[38;5;241;43m*\u001b[39;49m\u001b[38;5;241;43m*\u001b[39;49m\u001b[43mkwargs\u001b[49m\u001b[43m)\u001b[49m\n\u001b[1;32m   3021\u001b[0m \u001b[38;5;28;01melse\u001b[39;00m:\n\u001b[1;32m   3022\u001b[0m     \u001b[38;5;28minput\u001b[39m \u001b[38;5;241m=\u001b[39m context\u001b[38;5;241m.\u001b[39mrun(step\u001b[38;5;241m.\u001b[39minvoke, \u001b[38;5;28minput\u001b[39m, config)\n",
      "File \u001b[0;32m/media/00.Data/00.User/02.wfx/app/anaconda3/envs/RAG/lib/python3.12/site-packages/langchain_core/runnables/branch.py:232\u001b[0m, in \u001b[0;36mRunnableBranch.invoke\u001b[0;34m(self, input, config, **kwargs)\u001b[0m\n\u001b[1;32m    223\u001b[0m     expression_value \u001b[38;5;241m=\u001b[39m condition\u001b[38;5;241m.\u001b[39minvoke(\n\u001b[1;32m    224\u001b[0m         \u001b[38;5;28minput\u001b[39m,\n\u001b[1;32m    225\u001b[0m         config\u001b[38;5;241m=\u001b[39mpatch_config(\n\u001b[0;32m   (...)\u001b[0m\n\u001b[1;32m    228\u001b[0m         ),\n\u001b[1;32m    229\u001b[0m     )\n\u001b[1;32m    231\u001b[0m     \u001b[38;5;28;01mif\u001b[39;00m expression_value:\n\u001b[0;32m--> 232\u001b[0m         output \u001b[38;5;241m=\u001b[39m \u001b[43mrunnable\u001b[49m\u001b[38;5;241;43m.\u001b[39;49m\u001b[43minvoke\u001b[49m\u001b[43m(\u001b[49m\n\u001b[1;32m    233\u001b[0m \u001b[43m            \u001b[49m\u001b[38;5;28;43minput\u001b[39;49m\u001b[43m,\u001b[49m\n\u001b[1;32m    234\u001b[0m \u001b[43m            \u001b[49m\u001b[43mconfig\u001b[49m\u001b[38;5;241;43m=\u001b[39;49m\u001b[43mpatch_config\u001b[49m\u001b[43m(\u001b[49m\n\u001b[1;32m    235\u001b[0m \u001b[43m                \u001b[49m\u001b[43mconfig\u001b[49m\u001b[43m,\u001b[49m\n\u001b[1;32m    236\u001b[0m \u001b[43m                \u001b[49m\u001b[43mcallbacks\u001b[49m\u001b[38;5;241;43m=\u001b[39;49m\u001b[43mrun_manager\u001b[49m\u001b[38;5;241;43m.\u001b[39;49m\u001b[43mget_child\u001b[49m\u001b[43m(\u001b[49m\u001b[43mtag\u001b[49m\u001b[38;5;241;43m=\u001b[39;49m\u001b[38;5;124;43mf\u001b[39;49m\u001b[38;5;124;43m\"\u001b[39;49m\u001b[38;5;124;43mbranch:\u001b[39;49m\u001b[38;5;132;43;01m{\u001b[39;49;00m\u001b[43midx\u001b[49m\u001b[38;5;250;43m \u001b[39;49m\u001b[38;5;241;43m+\u001b[39;49m\u001b[38;5;250;43m \u001b[39;49m\u001b[38;5;241;43m1\u001b[39;49m\u001b[38;5;132;43;01m}\u001b[39;49;00m\u001b[38;5;124;43m\"\u001b[39;49m\u001b[43m)\u001b[49m\u001b[43m,\u001b[49m\n\u001b[1;32m    237\u001b[0m \u001b[43m            \u001b[49m\u001b[43m)\u001b[49m\u001b[43m,\u001b[49m\n\u001b[1;32m    238\u001b[0m \u001b[43m            \u001b[49m\u001b[38;5;241;43m*\u001b[39;49m\u001b[38;5;241;43m*\u001b[39;49m\u001b[43mkwargs\u001b[49m\u001b[43m,\u001b[49m\n\u001b[1;32m    239\u001b[0m \u001b[43m        \u001b[49m\u001b[43m)\u001b[49m\n\u001b[1;32m    240\u001b[0m         \u001b[38;5;28;01mbreak\u001b[39;00m\n\u001b[1;32m    241\u001b[0m \u001b[38;5;28;01melse\u001b[39;00m:\n",
      "File \u001b[0;32m/media/00.Data/00.User/02.wfx/app/anaconda3/envs/RAG/lib/python3.12/site-packages/langchain_core/runnables/base.py:3022\u001b[0m, in \u001b[0;36mRunnableSequence.invoke\u001b[0;34m(self, input, config, **kwargs)\u001b[0m\n\u001b[1;32m   3020\u001b[0m             \u001b[38;5;28minput\u001b[39m \u001b[38;5;241m=\u001b[39m context\u001b[38;5;241m.\u001b[39mrun(step\u001b[38;5;241m.\u001b[39minvoke, \u001b[38;5;28minput\u001b[39m, config, \u001b[38;5;241m*\u001b[39m\u001b[38;5;241m*\u001b[39mkwargs)\n\u001b[1;32m   3021\u001b[0m         \u001b[38;5;28;01melse\u001b[39;00m:\n\u001b[0;32m-> 3022\u001b[0m             \u001b[38;5;28minput\u001b[39m \u001b[38;5;241m=\u001b[39m \u001b[43mcontext\u001b[49m\u001b[38;5;241;43m.\u001b[39;49m\u001b[43mrun\u001b[49m\u001b[43m(\u001b[49m\u001b[43mstep\u001b[49m\u001b[38;5;241;43m.\u001b[39;49m\u001b[43minvoke\u001b[49m\u001b[43m,\u001b[49m\u001b[43m \u001b[49m\u001b[38;5;28;43minput\u001b[39;49m\u001b[43m,\u001b[49m\u001b[43m \u001b[49m\u001b[43mconfig\u001b[49m\u001b[43m)\u001b[49m\n\u001b[1;32m   3023\u001b[0m \u001b[38;5;66;03m# finish the root run\u001b[39;00m\n\u001b[1;32m   3024\u001b[0m \u001b[38;5;28;01mexcept\u001b[39;00m \u001b[38;5;167;01mBaseException\u001b[39;00m \u001b[38;5;28;01mas\u001b[39;00m e:\n",
      "File \u001b[0;32m/media/00.Data/00.User/02.wfx/app/anaconda3/envs/RAG/lib/python3.12/site-packages/langchain_core/language_models/chat_models.py:286\u001b[0m, in \u001b[0;36mBaseChatModel.invoke\u001b[0;34m(self, input, config, stop, **kwargs)\u001b[0m\n\u001b[1;32m    275\u001b[0m \u001b[38;5;28;01mdef\u001b[39;00m \u001b[38;5;21minvoke\u001b[39m(\n\u001b[1;32m    276\u001b[0m     \u001b[38;5;28mself\u001b[39m,\n\u001b[1;32m    277\u001b[0m     \u001b[38;5;28minput\u001b[39m: LanguageModelInput,\n\u001b[0;32m   (...)\u001b[0m\n\u001b[1;32m    281\u001b[0m     \u001b[38;5;241m*\u001b[39m\u001b[38;5;241m*\u001b[39mkwargs: Any,\n\u001b[1;32m    282\u001b[0m ) \u001b[38;5;241m-\u001b[39m\u001b[38;5;241m>\u001b[39m BaseMessage:\n\u001b[1;32m    283\u001b[0m     config \u001b[38;5;241m=\u001b[39m ensure_config(config)\n\u001b[1;32m    284\u001b[0m     \u001b[38;5;28;01mreturn\u001b[39;00m cast(\n\u001b[1;32m    285\u001b[0m         ChatGeneration,\n\u001b[0;32m--> 286\u001b[0m         \u001b[38;5;28;43mself\u001b[39;49m\u001b[38;5;241;43m.\u001b[39;49m\u001b[43mgenerate_prompt\u001b[49m\u001b[43m(\u001b[49m\n\u001b[1;32m    287\u001b[0m \u001b[43m            \u001b[49m\u001b[43m[\u001b[49m\u001b[38;5;28;43mself\u001b[39;49m\u001b[38;5;241;43m.\u001b[39;49m\u001b[43m_convert_input\u001b[49m\u001b[43m(\u001b[49m\u001b[38;5;28;43minput\u001b[39;49m\u001b[43m)\u001b[49m\u001b[43m]\u001b[49m\u001b[43m,\u001b[49m\n\u001b[1;32m    288\u001b[0m \u001b[43m            \u001b[49m\u001b[43mstop\u001b[49m\u001b[38;5;241;43m=\u001b[39;49m\u001b[43mstop\u001b[49m\u001b[43m,\u001b[49m\n\u001b[1;32m    289\u001b[0m \u001b[43m            \u001b[49m\u001b[43mcallbacks\u001b[49m\u001b[38;5;241;43m=\u001b[39;49m\u001b[43mconfig\u001b[49m\u001b[38;5;241;43m.\u001b[39;49m\u001b[43mget\u001b[49m\u001b[43m(\u001b[49m\u001b[38;5;124;43m\"\u001b[39;49m\u001b[38;5;124;43mcallbacks\u001b[39;49m\u001b[38;5;124;43m\"\u001b[39;49m\u001b[43m)\u001b[49m\u001b[43m,\u001b[49m\n\u001b[1;32m    290\u001b[0m \u001b[43m            \u001b[49m\u001b[43mtags\u001b[49m\u001b[38;5;241;43m=\u001b[39;49m\u001b[43mconfig\u001b[49m\u001b[38;5;241;43m.\u001b[39;49m\u001b[43mget\u001b[49m\u001b[43m(\u001b[49m\u001b[38;5;124;43m\"\u001b[39;49m\u001b[38;5;124;43mtags\u001b[39;49m\u001b[38;5;124;43m\"\u001b[39;49m\u001b[43m)\u001b[49m\u001b[43m,\u001b[49m\n\u001b[1;32m    291\u001b[0m \u001b[43m            \u001b[49m\u001b[43mmetadata\u001b[49m\u001b[38;5;241;43m=\u001b[39;49m\u001b[43mconfig\u001b[49m\u001b[38;5;241;43m.\u001b[39;49m\u001b[43mget\u001b[49m\u001b[43m(\u001b[49m\u001b[38;5;124;43m\"\u001b[39;49m\u001b[38;5;124;43mmetadata\u001b[39;49m\u001b[38;5;124;43m\"\u001b[39;49m\u001b[43m)\u001b[49m\u001b[43m,\u001b[49m\n\u001b[1;32m    292\u001b[0m \u001b[43m            \u001b[49m\u001b[43mrun_name\u001b[49m\u001b[38;5;241;43m=\u001b[39;49m\u001b[43mconfig\u001b[49m\u001b[38;5;241;43m.\u001b[39;49m\u001b[43mget\u001b[49m\u001b[43m(\u001b[49m\u001b[38;5;124;43m\"\u001b[39;49m\u001b[38;5;124;43mrun_name\u001b[39;49m\u001b[38;5;124;43m\"\u001b[39;49m\u001b[43m)\u001b[49m\u001b[43m,\u001b[49m\n\u001b[1;32m    293\u001b[0m \u001b[43m            \u001b[49m\u001b[43mrun_id\u001b[49m\u001b[38;5;241;43m=\u001b[39;49m\u001b[43mconfig\u001b[49m\u001b[38;5;241;43m.\u001b[39;49m\u001b[43mpop\u001b[49m\u001b[43m(\u001b[49m\u001b[38;5;124;43m\"\u001b[39;49m\u001b[38;5;124;43mrun_id\u001b[39;49m\u001b[38;5;124;43m\"\u001b[39;49m\u001b[43m,\u001b[49m\u001b[43m \u001b[49m\u001b[38;5;28;43;01mNone\u001b[39;49;00m\u001b[43m)\u001b[49m\u001b[43m,\u001b[49m\n\u001b[1;32m    294\u001b[0m \u001b[43m            \u001b[49m\u001b[38;5;241;43m*\u001b[39;49m\u001b[38;5;241;43m*\u001b[39;49m\u001b[43mkwargs\u001b[49m\u001b[43m,\u001b[49m\n\u001b[1;32m    295\u001b[0m \u001b[43m        \u001b[49m\u001b[43m)\u001b[49m\u001b[38;5;241m.\u001b[39mgenerations[\u001b[38;5;241m0\u001b[39m][\u001b[38;5;241m0\u001b[39m],\n\u001b[1;32m    296\u001b[0m     )\u001b[38;5;241m.\u001b[39mmessage\n",
      "File \u001b[0;32m/media/00.Data/00.User/02.wfx/app/anaconda3/envs/RAG/lib/python3.12/site-packages/langchain_core/language_models/chat_models.py:786\u001b[0m, in \u001b[0;36mBaseChatModel.generate_prompt\u001b[0;34m(self, prompts, stop, callbacks, **kwargs)\u001b[0m\n\u001b[1;32m    778\u001b[0m \u001b[38;5;28;01mdef\u001b[39;00m \u001b[38;5;21mgenerate_prompt\u001b[39m(\n\u001b[1;32m    779\u001b[0m     \u001b[38;5;28mself\u001b[39m,\n\u001b[1;32m    780\u001b[0m     prompts: \u001b[38;5;28mlist\u001b[39m[PromptValue],\n\u001b[0;32m   (...)\u001b[0m\n\u001b[1;32m    783\u001b[0m     \u001b[38;5;241m*\u001b[39m\u001b[38;5;241m*\u001b[39mkwargs: Any,\n\u001b[1;32m    784\u001b[0m ) \u001b[38;5;241m-\u001b[39m\u001b[38;5;241m>\u001b[39m LLMResult:\n\u001b[1;32m    785\u001b[0m     prompt_messages \u001b[38;5;241m=\u001b[39m [p\u001b[38;5;241m.\u001b[39mto_messages() \u001b[38;5;28;01mfor\u001b[39;00m p \u001b[38;5;129;01min\u001b[39;00m prompts]\n\u001b[0;32m--> 786\u001b[0m     \u001b[38;5;28;01mreturn\u001b[39;00m \u001b[38;5;28;43mself\u001b[39;49m\u001b[38;5;241;43m.\u001b[39;49m\u001b[43mgenerate\u001b[49m\u001b[43m(\u001b[49m\u001b[43mprompt_messages\u001b[49m\u001b[43m,\u001b[49m\u001b[43m \u001b[49m\u001b[43mstop\u001b[49m\u001b[38;5;241;43m=\u001b[39;49m\u001b[43mstop\u001b[49m\u001b[43m,\u001b[49m\u001b[43m \u001b[49m\u001b[43mcallbacks\u001b[49m\u001b[38;5;241;43m=\u001b[39;49m\u001b[43mcallbacks\u001b[49m\u001b[43m,\u001b[49m\u001b[43m \u001b[49m\u001b[38;5;241;43m*\u001b[39;49m\u001b[38;5;241;43m*\u001b[39;49m\u001b[43mkwargs\u001b[49m\u001b[43m)\u001b[49m\n",
      "File \u001b[0;32m/media/00.Data/00.User/02.wfx/app/anaconda3/envs/RAG/lib/python3.12/site-packages/langchain_core/language_models/chat_models.py:643\u001b[0m, in \u001b[0;36mBaseChatModel.generate\u001b[0;34m(self, messages, stop, callbacks, tags, metadata, run_name, run_id, **kwargs)\u001b[0m\n\u001b[1;32m    641\u001b[0m         \u001b[38;5;28;01mif\u001b[39;00m run_managers:\n\u001b[1;32m    642\u001b[0m             run_managers[i]\u001b[38;5;241m.\u001b[39mon_llm_error(e, response\u001b[38;5;241m=\u001b[39mLLMResult(generations\u001b[38;5;241m=\u001b[39m[]))\n\u001b[0;32m--> 643\u001b[0m         \u001b[38;5;28;01mraise\u001b[39;00m e\n\u001b[1;32m    644\u001b[0m flattened_outputs \u001b[38;5;241m=\u001b[39m [\n\u001b[1;32m    645\u001b[0m     LLMResult(generations\u001b[38;5;241m=\u001b[39m[res\u001b[38;5;241m.\u001b[39mgenerations], llm_output\u001b[38;5;241m=\u001b[39mres\u001b[38;5;241m.\u001b[39mllm_output)  \u001b[38;5;66;03m# type: ignore[list-item]\u001b[39;00m\n\u001b[1;32m    646\u001b[0m     \u001b[38;5;28;01mfor\u001b[39;00m res \u001b[38;5;129;01min\u001b[39;00m results\n\u001b[1;32m    647\u001b[0m ]\n\u001b[1;32m    648\u001b[0m llm_output \u001b[38;5;241m=\u001b[39m \u001b[38;5;28mself\u001b[39m\u001b[38;5;241m.\u001b[39m_combine_llm_outputs([res\u001b[38;5;241m.\u001b[39mllm_output \u001b[38;5;28;01mfor\u001b[39;00m res \u001b[38;5;129;01min\u001b[39;00m results])\n",
      "File \u001b[0;32m/media/00.Data/00.User/02.wfx/app/anaconda3/envs/RAG/lib/python3.12/site-packages/langchain_core/language_models/chat_models.py:633\u001b[0m, in \u001b[0;36mBaseChatModel.generate\u001b[0;34m(self, messages, stop, callbacks, tags, metadata, run_name, run_id, **kwargs)\u001b[0m\n\u001b[1;32m    630\u001b[0m \u001b[38;5;28;01mfor\u001b[39;00m i, m \u001b[38;5;129;01min\u001b[39;00m \u001b[38;5;28menumerate\u001b[39m(messages):\n\u001b[1;32m    631\u001b[0m     \u001b[38;5;28;01mtry\u001b[39;00m:\n\u001b[1;32m    632\u001b[0m         results\u001b[38;5;241m.\u001b[39mappend(\n\u001b[0;32m--> 633\u001b[0m             \u001b[38;5;28;43mself\u001b[39;49m\u001b[38;5;241;43m.\u001b[39;49m\u001b[43m_generate_with_cache\u001b[49m\u001b[43m(\u001b[49m\n\u001b[1;32m    634\u001b[0m \u001b[43m                \u001b[49m\u001b[43mm\u001b[49m\u001b[43m,\u001b[49m\n\u001b[1;32m    635\u001b[0m \u001b[43m                \u001b[49m\u001b[43mstop\u001b[49m\u001b[38;5;241;43m=\u001b[39;49m\u001b[43mstop\u001b[49m\u001b[43m,\u001b[49m\n\u001b[1;32m    636\u001b[0m \u001b[43m                \u001b[49m\u001b[43mrun_manager\u001b[49m\u001b[38;5;241;43m=\u001b[39;49m\u001b[43mrun_managers\u001b[49m\u001b[43m[\u001b[49m\u001b[43mi\u001b[49m\u001b[43m]\u001b[49m\u001b[43m \u001b[49m\u001b[38;5;28;43;01mif\u001b[39;49;00m\u001b[43m \u001b[49m\u001b[43mrun_managers\u001b[49m\u001b[43m \u001b[49m\u001b[38;5;28;43;01melse\u001b[39;49;00m\u001b[43m \u001b[49m\u001b[38;5;28;43;01mNone\u001b[39;49;00m\u001b[43m,\u001b[49m\n\u001b[1;32m    637\u001b[0m \u001b[43m                \u001b[49m\u001b[38;5;241;43m*\u001b[39;49m\u001b[38;5;241;43m*\u001b[39;49m\u001b[43mkwargs\u001b[49m\u001b[43m,\u001b[49m\n\u001b[1;32m    638\u001b[0m \u001b[43m            \u001b[49m\u001b[43m)\u001b[49m\n\u001b[1;32m    639\u001b[0m         )\n\u001b[1;32m    640\u001b[0m     \u001b[38;5;28;01mexcept\u001b[39;00m \u001b[38;5;167;01mBaseException\u001b[39;00m \u001b[38;5;28;01mas\u001b[39;00m e:\n\u001b[1;32m    641\u001b[0m         \u001b[38;5;28;01mif\u001b[39;00m run_managers:\n",
      "File \u001b[0;32m/media/00.Data/00.User/02.wfx/app/anaconda3/envs/RAG/lib/python3.12/site-packages/langchain_core/language_models/chat_models.py:851\u001b[0m, in \u001b[0;36mBaseChatModel._generate_with_cache\u001b[0;34m(self, messages, stop, run_manager, **kwargs)\u001b[0m\n\u001b[1;32m    849\u001b[0m \u001b[38;5;28;01melse\u001b[39;00m:\n\u001b[1;32m    850\u001b[0m     \u001b[38;5;28;01mif\u001b[39;00m inspect\u001b[38;5;241m.\u001b[39msignature(\u001b[38;5;28mself\u001b[39m\u001b[38;5;241m.\u001b[39m_generate)\u001b[38;5;241m.\u001b[39mparameters\u001b[38;5;241m.\u001b[39mget(\u001b[38;5;124m\"\u001b[39m\u001b[38;5;124mrun_manager\u001b[39m\u001b[38;5;124m\"\u001b[39m):\n\u001b[0;32m--> 851\u001b[0m         result \u001b[38;5;241m=\u001b[39m \u001b[38;5;28;43mself\u001b[39;49m\u001b[38;5;241;43m.\u001b[39;49m\u001b[43m_generate\u001b[49m\u001b[43m(\u001b[49m\n\u001b[1;32m    852\u001b[0m \u001b[43m            \u001b[49m\u001b[43mmessages\u001b[49m\u001b[43m,\u001b[49m\u001b[43m \u001b[49m\u001b[43mstop\u001b[49m\u001b[38;5;241;43m=\u001b[39;49m\u001b[43mstop\u001b[49m\u001b[43m,\u001b[49m\u001b[43m \u001b[49m\u001b[43mrun_manager\u001b[49m\u001b[38;5;241;43m=\u001b[39;49m\u001b[43mrun_manager\u001b[49m\u001b[43m,\u001b[49m\u001b[43m \u001b[49m\u001b[38;5;241;43m*\u001b[39;49m\u001b[38;5;241;43m*\u001b[39;49m\u001b[43mkwargs\u001b[49m\n\u001b[1;32m    853\u001b[0m \u001b[43m        \u001b[49m\u001b[43m)\u001b[49m\n\u001b[1;32m    854\u001b[0m     \u001b[38;5;28;01melse\u001b[39;00m:\n\u001b[1;32m    855\u001b[0m         result \u001b[38;5;241m=\u001b[39m \u001b[38;5;28mself\u001b[39m\u001b[38;5;241m.\u001b[39m_generate(messages, stop\u001b[38;5;241m=\u001b[39mstop, \u001b[38;5;241m*\u001b[39m\u001b[38;5;241m*\u001b[39mkwargs)\n",
      "File \u001b[0;32m/media/00.Data/00.User/02.wfx/app/anaconda3/envs/RAG/lib/python3.12/site-packages/langchain_openai/chat_models/base.py:717\u001b[0m, in \u001b[0;36mBaseChatOpenAI._generate\u001b[0;34m(self, messages, stop, run_manager, **kwargs)\u001b[0m\n\u001b[1;32m    715\u001b[0m     generation_info \u001b[38;5;241m=\u001b[39m {\u001b[38;5;124m\"\u001b[39m\u001b[38;5;124mheaders\u001b[39m\u001b[38;5;124m\"\u001b[39m: \u001b[38;5;28mdict\u001b[39m(raw_response\u001b[38;5;241m.\u001b[39mheaders)}\n\u001b[1;32m    716\u001b[0m \u001b[38;5;28;01melse\u001b[39;00m:\n\u001b[0;32m--> 717\u001b[0m     response \u001b[38;5;241m=\u001b[39m \u001b[38;5;28;43mself\u001b[39;49m\u001b[38;5;241;43m.\u001b[39;49m\u001b[43mclient\u001b[49m\u001b[38;5;241;43m.\u001b[39;49m\u001b[43mcreate\u001b[49m\u001b[43m(\u001b[49m\u001b[38;5;241;43m*\u001b[39;49m\u001b[38;5;241;43m*\u001b[39;49m\u001b[43mpayload\u001b[49m\u001b[43m)\u001b[49m\n\u001b[1;32m    718\u001b[0m \u001b[38;5;28;01mreturn\u001b[39;00m \u001b[38;5;28mself\u001b[39m\u001b[38;5;241m.\u001b[39m_create_chat_result(response, generation_info)\n",
      "File \u001b[0;32m/media/00.Data/00.User/02.wfx/app/anaconda3/envs/RAG/lib/python3.12/site-packages/openai/_utils/_utils.py:279\u001b[0m, in \u001b[0;36mrequired_args.<locals>.inner.<locals>.wrapper\u001b[0;34m(*args, **kwargs)\u001b[0m\n\u001b[1;32m    277\u001b[0m             msg \u001b[38;5;241m=\u001b[39m \u001b[38;5;124mf\u001b[39m\u001b[38;5;124m\"\u001b[39m\u001b[38;5;124mMissing required argument: \u001b[39m\u001b[38;5;132;01m{\u001b[39;00mquote(missing[\u001b[38;5;241m0\u001b[39m])\u001b[38;5;132;01m}\u001b[39;00m\u001b[38;5;124m\"\u001b[39m\n\u001b[1;32m    278\u001b[0m     \u001b[38;5;28;01mraise\u001b[39;00m \u001b[38;5;167;01mTypeError\u001b[39;00m(msg)\n\u001b[0;32m--> 279\u001b[0m \u001b[38;5;28;01mreturn\u001b[39;00m \u001b[43mfunc\u001b[49m\u001b[43m(\u001b[49m\u001b[38;5;241;43m*\u001b[39;49m\u001b[43margs\u001b[49m\u001b[43m,\u001b[49m\u001b[43m \u001b[49m\u001b[38;5;241;43m*\u001b[39;49m\u001b[38;5;241;43m*\u001b[39;49m\u001b[43mkwargs\u001b[49m\u001b[43m)\u001b[49m\n",
      "File \u001b[0;32m/media/00.Data/00.User/02.wfx/app/anaconda3/envs/RAG/lib/python3.12/site-packages/openai/resources/chat/completions.py:859\u001b[0m, in \u001b[0;36mCompletions.create\u001b[0;34m(self, messages, model, audio, frequency_penalty, function_call, functions, logit_bias, logprobs, max_completion_tokens, max_tokens, metadata, modalities, n, parallel_tool_calls, prediction, presence_penalty, reasoning_effort, response_format, seed, service_tier, stop, store, stream, stream_options, temperature, tool_choice, tools, top_logprobs, top_p, user, extra_headers, extra_query, extra_body, timeout)\u001b[0m\n\u001b[1;32m    817\u001b[0m \u001b[38;5;129m@required_args\u001b[39m([\u001b[38;5;124m\"\u001b[39m\u001b[38;5;124mmessages\u001b[39m\u001b[38;5;124m\"\u001b[39m, \u001b[38;5;124m\"\u001b[39m\u001b[38;5;124mmodel\u001b[39m\u001b[38;5;124m\"\u001b[39m], [\u001b[38;5;124m\"\u001b[39m\u001b[38;5;124mmessages\u001b[39m\u001b[38;5;124m\"\u001b[39m, \u001b[38;5;124m\"\u001b[39m\u001b[38;5;124mmodel\u001b[39m\u001b[38;5;124m\"\u001b[39m, \u001b[38;5;124m\"\u001b[39m\u001b[38;5;124mstream\u001b[39m\u001b[38;5;124m\"\u001b[39m])\n\u001b[1;32m    818\u001b[0m \u001b[38;5;28;01mdef\u001b[39;00m \u001b[38;5;21mcreate\u001b[39m(\n\u001b[1;32m    819\u001b[0m     \u001b[38;5;28mself\u001b[39m,\n\u001b[0;32m   (...)\u001b[0m\n\u001b[1;32m    856\u001b[0m     timeout: \u001b[38;5;28mfloat\u001b[39m \u001b[38;5;241m|\u001b[39m httpx\u001b[38;5;241m.\u001b[39mTimeout \u001b[38;5;241m|\u001b[39m \u001b[38;5;28;01mNone\u001b[39;00m \u001b[38;5;241m|\u001b[39m NotGiven \u001b[38;5;241m=\u001b[39m NOT_GIVEN,\n\u001b[1;32m    857\u001b[0m ) \u001b[38;5;241m-\u001b[39m\u001b[38;5;241m>\u001b[39m ChatCompletion \u001b[38;5;241m|\u001b[39m Stream[ChatCompletionChunk]:\n\u001b[1;32m    858\u001b[0m     validate_response_format(response_format)\n\u001b[0;32m--> 859\u001b[0m     \u001b[38;5;28;01mreturn\u001b[39;00m \u001b[38;5;28;43mself\u001b[39;49m\u001b[38;5;241;43m.\u001b[39;49m\u001b[43m_post\u001b[49m\u001b[43m(\u001b[49m\n\u001b[1;32m    860\u001b[0m \u001b[43m        \u001b[49m\u001b[38;5;124;43m\"\u001b[39;49m\u001b[38;5;124;43m/chat/completions\u001b[39;49m\u001b[38;5;124;43m\"\u001b[39;49m\u001b[43m,\u001b[49m\n\u001b[1;32m    861\u001b[0m \u001b[43m        \u001b[49m\u001b[43mbody\u001b[49m\u001b[38;5;241;43m=\u001b[39;49m\u001b[43mmaybe_transform\u001b[49m\u001b[43m(\u001b[49m\n\u001b[1;32m    862\u001b[0m \u001b[43m            \u001b[49m\u001b[43m{\u001b[49m\n\u001b[1;32m    863\u001b[0m \u001b[43m                \u001b[49m\u001b[38;5;124;43m\"\u001b[39;49m\u001b[38;5;124;43mmessages\u001b[39;49m\u001b[38;5;124;43m\"\u001b[39;49m\u001b[43m:\u001b[49m\u001b[43m \u001b[49m\u001b[43mmessages\u001b[49m\u001b[43m,\u001b[49m\n\u001b[1;32m    864\u001b[0m \u001b[43m                \u001b[49m\u001b[38;5;124;43m\"\u001b[39;49m\u001b[38;5;124;43mmodel\u001b[39;49m\u001b[38;5;124;43m\"\u001b[39;49m\u001b[43m:\u001b[49m\u001b[43m \u001b[49m\u001b[43mmodel\u001b[49m\u001b[43m,\u001b[49m\n\u001b[1;32m    865\u001b[0m \u001b[43m                \u001b[49m\u001b[38;5;124;43m\"\u001b[39;49m\u001b[38;5;124;43maudio\u001b[39;49m\u001b[38;5;124;43m\"\u001b[39;49m\u001b[43m:\u001b[49m\u001b[43m \u001b[49m\u001b[43maudio\u001b[49m\u001b[43m,\u001b[49m\n\u001b[1;32m    866\u001b[0m \u001b[43m                \u001b[49m\u001b[38;5;124;43m\"\u001b[39;49m\u001b[38;5;124;43mfrequency_penalty\u001b[39;49m\u001b[38;5;124;43m\"\u001b[39;49m\u001b[43m:\u001b[49m\u001b[43m \u001b[49m\u001b[43mfrequency_penalty\u001b[49m\u001b[43m,\u001b[49m\n\u001b[1;32m    867\u001b[0m \u001b[43m                \u001b[49m\u001b[38;5;124;43m\"\u001b[39;49m\u001b[38;5;124;43mfunction_call\u001b[39;49m\u001b[38;5;124;43m\"\u001b[39;49m\u001b[43m:\u001b[49m\u001b[43m \u001b[49m\u001b[43mfunction_call\u001b[49m\u001b[43m,\u001b[49m\n\u001b[1;32m    868\u001b[0m \u001b[43m                \u001b[49m\u001b[38;5;124;43m\"\u001b[39;49m\u001b[38;5;124;43mfunctions\u001b[39;49m\u001b[38;5;124;43m\"\u001b[39;49m\u001b[43m:\u001b[49m\u001b[43m \u001b[49m\u001b[43mfunctions\u001b[49m\u001b[43m,\u001b[49m\n\u001b[1;32m    869\u001b[0m \u001b[43m                \u001b[49m\u001b[38;5;124;43m\"\u001b[39;49m\u001b[38;5;124;43mlogit_bias\u001b[39;49m\u001b[38;5;124;43m\"\u001b[39;49m\u001b[43m:\u001b[49m\u001b[43m \u001b[49m\u001b[43mlogit_bias\u001b[49m\u001b[43m,\u001b[49m\n\u001b[1;32m    870\u001b[0m \u001b[43m                \u001b[49m\u001b[38;5;124;43m\"\u001b[39;49m\u001b[38;5;124;43mlogprobs\u001b[39;49m\u001b[38;5;124;43m\"\u001b[39;49m\u001b[43m:\u001b[49m\u001b[43m \u001b[49m\u001b[43mlogprobs\u001b[49m\u001b[43m,\u001b[49m\n\u001b[1;32m    871\u001b[0m \u001b[43m                \u001b[49m\u001b[38;5;124;43m\"\u001b[39;49m\u001b[38;5;124;43mmax_completion_tokens\u001b[39;49m\u001b[38;5;124;43m\"\u001b[39;49m\u001b[43m:\u001b[49m\u001b[43m \u001b[49m\u001b[43mmax_completion_tokens\u001b[49m\u001b[43m,\u001b[49m\n\u001b[1;32m    872\u001b[0m \u001b[43m                \u001b[49m\u001b[38;5;124;43m\"\u001b[39;49m\u001b[38;5;124;43mmax_tokens\u001b[39;49m\u001b[38;5;124;43m\"\u001b[39;49m\u001b[43m:\u001b[49m\u001b[43m \u001b[49m\u001b[43mmax_tokens\u001b[49m\u001b[43m,\u001b[49m\n\u001b[1;32m    873\u001b[0m \u001b[43m                \u001b[49m\u001b[38;5;124;43m\"\u001b[39;49m\u001b[38;5;124;43mmetadata\u001b[39;49m\u001b[38;5;124;43m\"\u001b[39;49m\u001b[43m:\u001b[49m\u001b[43m \u001b[49m\u001b[43mmetadata\u001b[49m\u001b[43m,\u001b[49m\n\u001b[1;32m    874\u001b[0m \u001b[43m                \u001b[49m\u001b[38;5;124;43m\"\u001b[39;49m\u001b[38;5;124;43mmodalities\u001b[39;49m\u001b[38;5;124;43m\"\u001b[39;49m\u001b[43m:\u001b[49m\u001b[43m \u001b[49m\u001b[43mmodalities\u001b[49m\u001b[43m,\u001b[49m\n\u001b[1;32m    875\u001b[0m \u001b[43m                \u001b[49m\u001b[38;5;124;43m\"\u001b[39;49m\u001b[38;5;124;43mn\u001b[39;49m\u001b[38;5;124;43m\"\u001b[39;49m\u001b[43m:\u001b[49m\u001b[43m \u001b[49m\u001b[43mn\u001b[49m\u001b[43m,\u001b[49m\n\u001b[1;32m    876\u001b[0m \u001b[43m                \u001b[49m\u001b[38;5;124;43m\"\u001b[39;49m\u001b[38;5;124;43mparallel_tool_calls\u001b[39;49m\u001b[38;5;124;43m\"\u001b[39;49m\u001b[43m:\u001b[49m\u001b[43m \u001b[49m\u001b[43mparallel_tool_calls\u001b[49m\u001b[43m,\u001b[49m\n\u001b[1;32m    877\u001b[0m \u001b[43m                \u001b[49m\u001b[38;5;124;43m\"\u001b[39;49m\u001b[38;5;124;43mprediction\u001b[39;49m\u001b[38;5;124;43m\"\u001b[39;49m\u001b[43m:\u001b[49m\u001b[43m \u001b[49m\u001b[43mprediction\u001b[49m\u001b[43m,\u001b[49m\n\u001b[1;32m    878\u001b[0m \u001b[43m                \u001b[49m\u001b[38;5;124;43m\"\u001b[39;49m\u001b[38;5;124;43mpresence_penalty\u001b[39;49m\u001b[38;5;124;43m\"\u001b[39;49m\u001b[43m:\u001b[49m\u001b[43m \u001b[49m\u001b[43mpresence_penalty\u001b[49m\u001b[43m,\u001b[49m\n\u001b[1;32m    879\u001b[0m \u001b[43m                \u001b[49m\u001b[38;5;124;43m\"\u001b[39;49m\u001b[38;5;124;43mreasoning_effort\u001b[39;49m\u001b[38;5;124;43m\"\u001b[39;49m\u001b[43m:\u001b[49m\u001b[43m \u001b[49m\u001b[43mreasoning_effort\u001b[49m\u001b[43m,\u001b[49m\n\u001b[1;32m    880\u001b[0m \u001b[43m                \u001b[49m\u001b[38;5;124;43m\"\u001b[39;49m\u001b[38;5;124;43mresponse_format\u001b[39;49m\u001b[38;5;124;43m\"\u001b[39;49m\u001b[43m:\u001b[49m\u001b[43m \u001b[49m\u001b[43mresponse_format\u001b[49m\u001b[43m,\u001b[49m\n\u001b[1;32m    881\u001b[0m \u001b[43m                \u001b[49m\u001b[38;5;124;43m\"\u001b[39;49m\u001b[38;5;124;43mseed\u001b[39;49m\u001b[38;5;124;43m\"\u001b[39;49m\u001b[43m:\u001b[49m\u001b[43m \u001b[49m\u001b[43mseed\u001b[49m\u001b[43m,\u001b[49m\n\u001b[1;32m    882\u001b[0m \u001b[43m                \u001b[49m\u001b[38;5;124;43m\"\u001b[39;49m\u001b[38;5;124;43mservice_tier\u001b[39;49m\u001b[38;5;124;43m\"\u001b[39;49m\u001b[43m:\u001b[49m\u001b[43m \u001b[49m\u001b[43mservice_tier\u001b[49m\u001b[43m,\u001b[49m\n\u001b[1;32m    883\u001b[0m \u001b[43m                \u001b[49m\u001b[38;5;124;43m\"\u001b[39;49m\u001b[38;5;124;43mstop\u001b[39;49m\u001b[38;5;124;43m\"\u001b[39;49m\u001b[43m:\u001b[49m\u001b[43m \u001b[49m\u001b[43mstop\u001b[49m\u001b[43m,\u001b[49m\n\u001b[1;32m    884\u001b[0m \u001b[43m                \u001b[49m\u001b[38;5;124;43m\"\u001b[39;49m\u001b[38;5;124;43mstore\u001b[39;49m\u001b[38;5;124;43m\"\u001b[39;49m\u001b[43m:\u001b[49m\u001b[43m \u001b[49m\u001b[43mstore\u001b[49m\u001b[43m,\u001b[49m\n\u001b[1;32m    885\u001b[0m \u001b[43m                \u001b[49m\u001b[38;5;124;43m\"\u001b[39;49m\u001b[38;5;124;43mstream\u001b[39;49m\u001b[38;5;124;43m\"\u001b[39;49m\u001b[43m:\u001b[49m\u001b[43m \u001b[49m\u001b[43mstream\u001b[49m\u001b[43m,\u001b[49m\n\u001b[1;32m    886\u001b[0m \u001b[43m                \u001b[49m\u001b[38;5;124;43m\"\u001b[39;49m\u001b[38;5;124;43mstream_options\u001b[39;49m\u001b[38;5;124;43m\"\u001b[39;49m\u001b[43m:\u001b[49m\u001b[43m \u001b[49m\u001b[43mstream_options\u001b[49m\u001b[43m,\u001b[49m\n\u001b[1;32m    887\u001b[0m \u001b[43m                \u001b[49m\u001b[38;5;124;43m\"\u001b[39;49m\u001b[38;5;124;43mtemperature\u001b[39;49m\u001b[38;5;124;43m\"\u001b[39;49m\u001b[43m:\u001b[49m\u001b[43m \u001b[49m\u001b[43mtemperature\u001b[49m\u001b[43m,\u001b[49m\n\u001b[1;32m    888\u001b[0m \u001b[43m                \u001b[49m\u001b[38;5;124;43m\"\u001b[39;49m\u001b[38;5;124;43mtool_choice\u001b[39;49m\u001b[38;5;124;43m\"\u001b[39;49m\u001b[43m:\u001b[49m\u001b[43m \u001b[49m\u001b[43mtool_choice\u001b[49m\u001b[43m,\u001b[49m\n\u001b[1;32m    889\u001b[0m \u001b[43m                \u001b[49m\u001b[38;5;124;43m\"\u001b[39;49m\u001b[38;5;124;43mtools\u001b[39;49m\u001b[38;5;124;43m\"\u001b[39;49m\u001b[43m:\u001b[49m\u001b[43m \u001b[49m\u001b[43mtools\u001b[49m\u001b[43m,\u001b[49m\n\u001b[1;32m    890\u001b[0m \u001b[43m                \u001b[49m\u001b[38;5;124;43m\"\u001b[39;49m\u001b[38;5;124;43mtop_logprobs\u001b[39;49m\u001b[38;5;124;43m\"\u001b[39;49m\u001b[43m:\u001b[49m\u001b[43m \u001b[49m\u001b[43mtop_logprobs\u001b[49m\u001b[43m,\u001b[49m\n\u001b[1;32m    891\u001b[0m \u001b[43m                \u001b[49m\u001b[38;5;124;43m\"\u001b[39;49m\u001b[38;5;124;43mtop_p\u001b[39;49m\u001b[38;5;124;43m\"\u001b[39;49m\u001b[43m:\u001b[49m\u001b[43m \u001b[49m\u001b[43mtop_p\u001b[49m\u001b[43m,\u001b[49m\n\u001b[1;32m    892\u001b[0m \u001b[43m                \u001b[49m\u001b[38;5;124;43m\"\u001b[39;49m\u001b[38;5;124;43muser\u001b[39;49m\u001b[38;5;124;43m\"\u001b[39;49m\u001b[43m:\u001b[49m\u001b[43m \u001b[49m\u001b[43muser\u001b[49m\u001b[43m,\u001b[49m\n\u001b[1;32m    893\u001b[0m \u001b[43m            \u001b[49m\u001b[43m}\u001b[49m\u001b[43m,\u001b[49m\n\u001b[1;32m    894\u001b[0m \u001b[43m            \u001b[49m\u001b[43mcompletion_create_params\u001b[49m\u001b[38;5;241;43m.\u001b[39;49m\u001b[43mCompletionCreateParams\u001b[49m\u001b[43m,\u001b[49m\n\u001b[1;32m    895\u001b[0m \u001b[43m        \u001b[49m\u001b[43m)\u001b[49m\u001b[43m,\u001b[49m\n\u001b[1;32m    896\u001b[0m \u001b[43m        \u001b[49m\u001b[43moptions\u001b[49m\u001b[38;5;241;43m=\u001b[39;49m\u001b[43mmake_request_options\u001b[49m\u001b[43m(\u001b[49m\n\u001b[1;32m    897\u001b[0m \u001b[43m            \u001b[49m\u001b[43mextra_headers\u001b[49m\u001b[38;5;241;43m=\u001b[39;49m\u001b[43mextra_headers\u001b[49m\u001b[43m,\u001b[49m\u001b[43m \u001b[49m\u001b[43mextra_query\u001b[49m\u001b[38;5;241;43m=\u001b[39;49m\u001b[43mextra_query\u001b[49m\u001b[43m,\u001b[49m\u001b[43m \u001b[49m\u001b[43mextra_body\u001b[49m\u001b[38;5;241;43m=\u001b[39;49m\u001b[43mextra_body\u001b[49m\u001b[43m,\u001b[49m\u001b[43m \u001b[49m\u001b[43mtimeout\u001b[49m\u001b[38;5;241;43m=\u001b[39;49m\u001b[43mtimeout\u001b[49m\n\u001b[1;32m    898\u001b[0m \u001b[43m        \u001b[49m\u001b[43m)\u001b[49m\u001b[43m,\u001b[49m\n\u001b[1;32m    899\u001b[0m \u001b[43m        \u001b[49m\u001b[43mcast_to\u001b[49m\u001b[38;5;241;43m=\u001b[39;49m\u001b[43mChatCompletion\u001b[49m\u001b[43m,\u001b[49m\n\u001b[1;32m    900\u001b[0m \u001b[43m        \u001b[49m\u001b[43mstream\u001b[49m\u001b[38;5;241;43m=\u001b[39;49m\u001b[43mstream\u001b[49m\u001b[43m \u001b[49m\u001b[38;5;129;43;01mor\u001b[39;49;00m\u001b[43m \u001b[49m\u001b[38;5;28;43;01mFalse\u001b[39;49;00m\u001b[43m,\u001b[49m\n\u001b[1;32m    901\u001b[0m \u001b[43m        \u001b[49m\u001b[43mstream_cls\u001b[49m\u001b[38;5;241;43m=\u001b[39;49m\u001b[43mStream\u001b[49m\u001b[43m[\u001b[49m\u001b[43mChatCompletionChunk\u001b[49m\u001b[43m]\u001b[49m\u001b[43m,\u001b[49m\n\u001b[1;32m    902\u001b[0m \u001b[43m    \u001b[49m\u001b[43m)\u001b[49m\n",
      "File \u001b[0;32m/media/00.Data/00.User/02.wfx/app/anaconda3/envs/RAG/lib/python3.12/site-packages/openai/_base_client.py:1280\u001b[0m, in \u001b[0;36mSyncAPIClient.post\u001b[0;34m(self, path, cast_to, body, options, files, stream, stream_cls)\u001b[0m\n\u001b[1;32m   1266\u001b[0m \u001b[38;5;28;01mdef\u001b[39;00m \u001b[38;5;21mpost\u001b[39m(\n\u001b[1;32m   1267\u001b[0m     \u001b[38;5;28mself\u001b[39m,\n\u001b[1;32m   1268\u001b[0m     path: \u001b[38;5;28mstr\u001b[39m,\n\u001b[0;32m   (...)\u001b[0m\n\u001b[1;32m   1275\u001b[0m     stream_cls: \u001b[38;5;28mtype\u001b[39m[_StreamT] \u001b[38;5;241m|\u001b[39m \u001b[38;5;28;01mNone\u001b[39;00m \u001b[38;5;241m=\u001b[39m \u001b[38;5;28;01mNone\u001b[39;00m,\n\u001b[1;32m   1276\u001b[0m ) \u001b[38;5;241m-\u001b[39m\u001b[38;5;241m>\u001b[39m ResponseT \u001b[38;5;241m|\u001b[39m _StreamT:\n\u001b[1;32m   1277\u001b[0m     opts \u001b[38;5;241m=\u001b[39m FinalRequestOptions\u001b[38;5;241m.\u001b[39mconstruct(\n\u001b[1;32m   1278\u001b[0m         method\u001b[38;5;241m=\u001b[39m\u001b[38;5;124m\"\u001b[39m\u001b[38;5;124mpost\u001b[39m\u001b[38;5;124m\"\u001b[39m, url\u001b[38;5;241m=\u001b[39mpath, json_data\u001b[38;5;241m=\u001b[39mbody, files\u001b[38;5;241m=\u001b[39mto_httpx_files(files), \u001b[38;5;241m*\u001b[39m\u001b[38;5;241m*\u001b[39moptions\n\u001b[1;32m   1279\u001b[0m     )\n\u001b[0;32m-> 1280\u001b[0m     \u001b[38;5;28;01mreturn\u001b[39;00m cast(ResponseT, \u001b[38;5;28;43mself\u001b[39;49m\u001b[38;5;241;43m.\u001b[39;49m\u001b[43mrequest\u001b[49m\u001b[43m(\u001b[49m\u001b[43mcast_to\u001b[49m\u001b[43m,\u001b[49m\u001b[43m \u001b[49m\u001b[43mopts\u001b[49m\u001b[43m,\u001b[49m\u001b[43m \u001b[49m\u001b[43mstream\u001b[49m\u001b[38;5;241;43m=\u001b[39;49m\u001b[43mstream\u001b[49m\u001b[43m,\u001b[49m\u001b[43m \u001b[49m\u001b[43mstream_cls\u001b[49m\u001b[38;5;241;43m=\u001b[39;49m\u001b[43mstream_cls\u001b[49m\u001b[43m)\u001b[49m)\n",
      "File \u001b[0;32m/media/00.Data/00.User/02.wfx/app/anaconda3/envs/RAG/lib/python3.12/site-packages/openai/_base_client.py:957\u001b[0m, in \u001b[0;36mSyncAPIClient.request\u001b[0;34m(self, cast_to, options, remaining_retries, stream, stream_cls)\u001b[0m\n\u001b[1;32m    954\u001b[0m \u001b[38;5;28;01melse\u001b[39;00m:\n\u001b[1;32m    955\u001b[0m     retries_taken \u001b[38;5;241m=\u001b[39m \u001b[38;5;241m0\u001b[39m\n\u001b[0;32m--> 957\u001b[0m \u001b[38;5;28;01mreturn\u001b[39;00m \u001b[38;5;28;43mself\u001b[39;49m\u001b[38;5;241;43m.\u001b[39;49m\u001b[43m_request\u001b[49m\u001b[43m(\u001b[49m\n\u001b[1;32m    958\u001b[0m \u001b[43m    \u001b[49m\u001b[43mcast_to\u001b[49m\u001b[38;5;241;43m=\u001b[39;49m\u001b[43mcast_to\u001b[49m\u001b[43m,\u001b[49m\n\u001b[1;32m    959\u001b[0m \u001b[43m    \u001b[49m\u001b[43moptions\u001b[49m\u001b[38;5;241;43m=\u001b[39;49m\u001b[43moptions\u001b[49m\u001b[43m,\u001b[49m\n\u001b[1;32m    960\u001b[0m \u001b[43m    \u001b[49m\u001b[43mstream\u001b[49m\u001b[38;5;241;43m=\u001b[39;49m\u001b[43mstream\u001b[49m\u001b[43m,\u001b[49m\n\u001b[1;32m    961\u001b[0m \u001b[43m    \u001b[49m\u001b[43mstream_cls\u001b[49m\u001b[38;5;241;43m=\u001b[39;49m\u001b[43mstream_cls\u001b[49m\u001b[43m,\u001b[49m\n\u001b[1;32m    962\u001b[0m \u001b[43m    \u001b[49m\u001b[43mretries_taken\u001b[49m\u001b[38;5;241;43m=\u001b[39;49m\u001b[43mretries_taken\u001b[49m\u001b[43m,\u001b[49m\n\u001b[1;32m    963\u001b[0m \u001b[43m\u001b[49m\u001b[43m)\u001b[49m\n",
      "File \u001b[0;32m/media/00.Data/00.User/02.wfx/app/anaconda3/envs/RAG/lib/python3.12/site-packages/openai/_base_client.py:1061\u001b[0m, in \u001b[0;36mSyncAPIClient._request\u001b[0;34m(self, cast_to, options, retries_taken, stream, stream_cls)\u001b[0m\n\u001b[1;32m   1058\u001b[0m         err\u001b[38;5;241m.\u001b[39mresponse\u001b[38;5;241m.\u001b[39mread()\n\u001b[1;32m   1060\u001b[0m     log\u001b[38;5;241m.\u001b[39mdebug(\u001b[38;5;124m\"\u001b[39m\u001b[38;5;124mRe-raising status error\u001b[39m\u001b[38;5;124m\"\u001b[39m)\n\u001b[0;32m-> 1061\u001b[0m     \u001b[38;5;28;01mraise\u001b[39;00m \u001b[38;5;28mself\u001b[39m\u001b[38;5;241m.\u001b[39m_make_status_error_from_response(err\u001b[38;5;241m.\u001b[39mresponse) \u001b[38;5;28;01mfrom\u001b[39;00m \u001b[38;5;28;01mNone\u001b[39;00m\n\u001b[1;32m   1063\u001b[0m \u001b[38;5;28;01mreturn\u001b[39;00m \u001b[38;5;28mself\u001b[39m\u001b[38;5;241m.\u001b[39m_process_response(\n\u001b[1;32m   1064\u001b[0m     cast_to\u001b[38;5;241m=\u001b[39mcast_to,\n\u001b[1;32m   1065\u001b[0m     options\u001b[38;5;241m=\u001b[39moptions,\n\u001b[0;32m   (...)\u001b[0m\n\u001b[1;32m   1069\u001b[0m     retries_taken\u001b[38;5;241m=\u001b[39mretries_taken,\n\u001b[1;32m   1070\u001b[0m )\n",
      "\u001b[0;31mAuthenticationError\u001b[0m: Error code: 401 - {'error': {'message': 'Incorrect API key provided: bce-v3/A***************************************************************57da. You can find your API key at https://platform.openai.com/account/api-keys.', 'type': 'invalid_request_error', 'param': None, 'code': 'invalid_api_key'}}"
     ]
    }
   ],
   "source": []
  },
  {
   "cell_type": "code",
   "execution_count": null,
   "id": "eec7b823",
   "metadata": {},
   "outputs": [],
   "source": []
  }
 ],
 "metadata": {
  "kernelspec": {
   "display_name": "RAG",
   "language": "python",
   "name": "python3"
  },
  "language_info": {
   "codemirror_mode": {
    "name": "ipython",
    "version": 3
   },
   "file_extension": ".py",
   "mimetype": "text/x-python",
   "name": "python",
   "nbconvert_exporter": "python",
   "pygments_lexer": "ipython3",
   "version": "3.12.8"
  }
 },
 "nbformat": 4,
 "nbformat_minor": 5
}
