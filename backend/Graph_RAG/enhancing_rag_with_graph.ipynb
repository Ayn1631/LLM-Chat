{
 "cells": [
  {
   "cell_type": "markdown",
   "metadata": {
    "id": "view-in-github",
    "colab_type": "text"
   },
   "source": [
    "<a href=\"https://colab.research.google.com/github/tomasonjo/blogs/blob/master/llm/enhancing_rag_with_graph.ipynb\" target=\"_parent\"><img src=\"https://colab.research.google.com/assets/colab-badge.svg\" alt=\"Open In Colab\"/></a>"
   ]
  },
  {
   "cell_type": "code",
   "execution_count": null,
   "metadata": {
    "id": "5x3LkpUztHNU",
    "ExecuteTime": {
     "start_time": "2025-01-02T11:41:13.347494500Z"
    }
   },
   "outputs": [],
   "source": [
    "%pip install --upgrade --quiet  langchain langchain-community langchain-openai langchain-experimental neo4j wikipedia tiktoken yfiles_jupyter_graphs"
   ]
  },
  {
   "cell_type": "code",
   "execution_count": null,
   "metadata": {
    "id": "jPIRSGz4tHNV"
   },
   "outputs": [],
   "source": [
    "from langchain_core.runnables import (\n",
    "    RunnableBranch,\n",
    "    RunnableLambda,\n",
    "    RunnableParallel,\n",
    "    RunnablePassthrough,\n",
    ")\n",
    "from langchain_core.prompts import ChatPromptTemplate\n",
    "from langchain_core.prompts.prompt import PromptTemplate\n",
    "from langchain_core.pydantic_v1 import BaseModel, Field\n",
    "from typing import Tuple, List, Optional\n",
    "from langchain_core.messages import AIMessage, HumanMessage\n",
    "from langchain_core.output_parsers import StrOutputParser\n",
    "import os\n",
    "from langchain_community.graphs import Neo4jGraph\n",
    "from langchain.document_loaders import WikipediaLoader\n",
    "from langchain.text_splitter import TokenTextSplitter\n",
    "from langchain_openai import ChatOpenAI\n",
    "from langchain_experimental.graph_transformers import LLMGraphTransformer\n",
    "from neo4j import GraphDatabase\n",
    "from yfiles_jupyter_graphs import GraphWidget\n",
    "from langchain_community.vectorstores import Neo4jVector\n",
    "from langchain_openai import OpenAIEmbeddings\n",
    "from langchain_community.vectorstores.neo4j_vector import remove_lucene_chars\n",
    "from langchain_core.runnables import ConfigurableField, RunnableParallel, RunnablePassthrough\n",
    "\n",
    "try:\n",
    "  import google.colab\n",
    "  from google.colab import output\n",
    "  output.enable_custom_widget_manager()\n",
    "except:\n",
    "  pass"
   ]
  },
  {
   "cell_type": "markdown",
   "source": [
    "# 通过构建和利用知识图谱来提高基于 RAG 的应用程序准确性\n",
    "## 使用 Neo4j 和 LangChain 在 RAG 应用程序中构建和检索知识图谱信息的实用指南\n",
    "\n",
    "图检索增强生成 （Graph RAG） 的发展势头强劲，并成为传统向量搜索检索方法的强大补充。这种方法利用图形数据库的结构化特性，将数据组织为节点和关系，以增强检索信息的深度和上下文性。\n",
    "\n",
    "图形擅长以结构化方式表示和存储异构和互连的信息，轻松捕获不同数据类型的复杂关系和属性。相比之下，向量数据库经常难以处理此类结构化信息，因为它们的优势在于通过高维向量处理非结构化数据。在您的 RAG 应用程序中，您可以通过非结构化文本将结构化图形数据与向量搜索相结合，以实现两全其美的效果，这正是我们将在这篇博文中所做的。\n",
    "\n",
    "知识图谱很棒，但如何创建知识图谱呢？构建知识图谱通常是利用基于图的数据表示功能最具挑战性的步骤。它涉及收集和构建数据，这需要对域和图形建模有深入的了解。为了简化这一过程，我们一直在试验 LLM。LLM 对语言和上下文有深刻的理解，可以自动化知识图谱创建过程的重要部分。通过分析文本数据，这些模型可以识别实体，了解它们之间的关系，并建议如何在图形结构中最好地表示它们。作为这些实验的结果，我们在 LangChain 中添加了第一个版本的图构建模块，我们将在这篇博文中演示。\n",
    "\n",
    "## Neo4j 环境设置\n",
    "\n",
    "您需要按照此博客文章中的示例设置 Neo4j 实例。最简单的方法是在 [Neo4j Aura]（https://neo4j.com/cloud/platform/aura-graph-database/） 上启动一个免费实例，它提供 Neo4j 数据库的云实例。或者，您也可以通过下载 Neo4j 桌面应用程序并创建本地数据库实例来设置 Neo4j 数据库的本地实例。"
   ],
   "metadata": {
    "id": "-KeAfaMQ0VKh"
   }
  },
  {
   "cell_type": "code",
   "execution_count": null,
   "metadata": {
    "id": "L0nXP1aYtHNW"
   },
   "outputs": [],
   "source": [
    "os.environ[\"OPENAI_API_KEY\"] = \"sk-\"\n",
    "os.environ[\"NEO4J_URI\"] = \"bolt://18.212.197.205:7687\"\n",
    "os.environ[\"NEO4J_USERNAME\"] = \"neo4j\"\n",
    "os.environ[\"NEO4J_PASSWORD\"] = \"tendencies-meanings-enlistment\"\n",
    "\n",
    "graph = Neo4jGraph()"
   ]
  },
  {
   "cell_type": "markdown",
   "source": [
    "此外，您必须提供 [OpenAI 密钥]（https://openai.com/），因为我们将在这篇博文中使用他们的模型。\n",
    "## 数据摄取\n",
    "对于此演示，我们将使用 Elizabeth I 的 Wikipedia 页面。我们可以利用 [LangChain loaders]() 从 Wikipedia 无缝获取和拆分文档。"
   ],
   "metadata": {
    "id": "GHKExwYntyD9"
   }
  },
  {
   "cell_type": "code",
   "execution_count": null,
   "metadata": {
    "id": "sGhtLTAStHNW",
    "outputId": "39f65561-6c6b-4370-a51f-1d8118591158",
    "colab": {
     "base_uri": "https://localhost:8080/"
    }
   },
   "outputs": [
    {
     "output_type": "stream",
     "name": "stderr",
     "text": [
      "/usr/local/lib/python3.10/dist-packages/wikipedia/wikipedia.py:389: GuessedAtParserWarning: No parser was explicitly specified, so I'm using the best available HTML parser for this system (\"lxml\"). This usually isn't a problem, but if you run this code on another system, or in a different virtual environment, it may use a different parser and behave differently.\n",
      "\n",
      "The code that caused this warning is on line 389 of the file /usr/local/lib/python3.10/dist-packages/wikipedia/wikipedia.py. To get rid of this warning, pass the additional argument 'features=\"lxml\"' to the BeautifulSoup constructor.\n",
      "\n",
      "  lis = BeautifulSoup(html).find_all('li')\n"
     ]
    }
   ],
   "source": [
    "# Read the wikipedia article\n",
    "raw_documents = WikipediaLoader(query=\"Elizabeth I\").load()\n",
    "# Define chunking strategy\n",
    "text_splitter = TokenTextSplitter(chunk_size=512, chunk_overlap=24)\n",
    "documents = text_splitter.split_documents(raw_documents[:3])"
   ]
  },
  {
   "cell_type": "markdown",
   "source": [
    "Now it's time to construct a graph based on the retrieved documents. For this purpose, we have implemented an `LLMGraphTransformermodule` that significantly simplifies constructing and storing a knowledge graph in a graph database."
   ],
   "metadata": {
    "id": "kphZMjjVuGAM"
   }
  },
  {
   "cell_type": "code",
   "execution_count": null,
   "metadata": {
    "id": "pXf7OTGHtHNW"
   },
   "outputs": [],
   "source": [
    "llm=ChatOpenAI(temperature=0, model_name=\"gpt-3.5-turbo-0125\") # gpt-4-0125-preview occasionally has issues\n",
    "llm_transformer = LLMGraphTransformer(llm=llm)\n",
    "\n",
    "graph_documents = llm_transformer.convert_to_graph_documents(documents)\n",
    "graph.add_graph_documents(\n",
    "    graph_documents,\n",
    "    baseEntityLabel=True,\n",
    "    include_source=True\n",
    ")"
   ]
  },
  {
   "cell_type": "markdown",
   "source": [
    "您可以定义希望知识图谱生成链使用的 LLM。目前，我们仅支持来自 OpenAI 和 Mistral 的函数调用模型。但是，我们计划在未来扩大 LLM 的选择范围。在此示例中，我们使用的是最新的 GPT-4。请注意，生成的图形的质量在很大程度上取决于您使用的模型。从理论上讲，您总是希望使用功能最强大的。LLM 图形转换器返回图形文档，这些文档可以通过 'add_graph_documents' 方法导入到 Neo4j。'baseEntityLabel' 参数为每个节点分配一个额外的 '__Entity__' 标签，从而增强索引和查询性能。'include_source' 参数将节点链接到其原始文档，从而促进数据可追溯性和上下文理解。\n",
    "\n",
    "您可以使用 yfiles 可视化检查生成的图形。"
   ],
   "metadata": {
    "id": "ll2asQiAugSW"
   }
  },
  {
   "cell_type": "code",
   "execution_count": null,
   "metadata": {
    "id": "RMZlhtDmtHNW",
    "outputId": "86efa842-3297-45d6-dab2-681bbc836b4d",
    "colab": {
     "base_uri": "https://localhost:8080/",
     "height": 817,
     "referenced_widgets": [
      "8e37edd9789a4d57a7be401628e7ff7f",
      "9bac7003afd84cecb4e67a81a396ec8d"
     ]
    }
   },
   "outputs": [
    {
     "output_type": "display_data",
     "data": {
      "text/plain": [
       "GraphWidget(layout=Layout(height='800px', width='100%'))"
      ],
      "application/vnd.jupyter.widget-view+json": {
       "version_major": 2,
       "version_minor": 0,
       "model_id": "8e37edd9789a4d57a7be401628e7ff7f"
      }
     },
     "metadata": {
      "application/vnd.jupyter.widget-view+json": {
       "colab": {
        "custom_widget_manager": {
         "url": "https://ssl.gstatic.com/colaboratory-static/widgets/colab-cdn-widget-manager/2b70e893a8ba7c0f/manager.min.js"
        }
       }
      }
     }
    }
   ],
   "source": [
    "# 直接显示给定 Cypher 查询生成的图形\n",
    "default_cypher = \"MATCH (s)-[r:!MENTIONS]->(t) RETURN s,r,t LIMIT 50\"\n",
    "\n",
    "def showGraph(cypher: str = default_cypher):\n",
    "    # create a neo4j session to run queries\n",
    "    driver = GraphDatabase.driver(\n",
    "        uri = os.environ[\"NEO4J_URI\"],\n",
    "        auth = (os.environ[\"NEO4J_USERNAME\"],\n",
    "                os.environ[\"NEO4J_PASSWORD\"]))\n",
    "    session = driver.session()\n",
    "    widget = GraphWidget(graph = session.run(cypher).graph())\n",
    "    widget.node_label_mapping = 'id'\n",
    "    #display(widget)\n",
    "    return widget\n",
    "\n",
    "showGraph()"
   ]
  },
  {
   "cell_type": "markdown",
   "source": [
    "## RAG 的混合检索\n",
    "生成图形后，我们将使用一种混合检索方法，将向量和关键字索引与 RAG 应用程序的图形检索相结合。\n",
    "\n",
    "![检索]（https://raw.githubusercontent.com/tomasonjo/blogs/master/graphhybrid.png）\n",
    "\n",
    "该图说明了一个检索过程，该过程从用户提出问题开始，然后被定向到 RAG 检索器。该检索器使用关键字和向量搜索来搜索非结构化文本数据，并将其与从知识图谱中收集的信息相结合。由于 Neo4j 同时具有关键字和向量索引，因此您可以使用单个数据库系统实现所有三个检索选项。从这些来源收集的数据被馈送到 LLM 中，以生成并提供最终答案。\n",
    "## 非结构化数据检索器\n",
    "您可以使用 Neo4jVector.from_existing_graph 方法将关键字和向量检索添加到文档中。此方法为混合搜索方法配置关键字和向量搜索索引，以标记为 Document 的节点为目标。此外，如果缺少文本嵌入值，它会计算文本嵌入值。"
   ],
   "metadata": {
    "id": "1guHjU4uyEZK"
   }
  },
  {
   "cell_type": "code",
   "execution_count": null,
   "metadata": {
    "id": "GHbJPMfDtHNW"
   },
   "outputs": [],
   "source": [
    "vector_index = Neo4jVector.from_existing_graph(\n",
    "    OpenAIEmbeddings(),\n",
    "    search_type=\"hybrid\",\n",
    "    node_label=\"Document\",\n",
    "    text_node_properties=[\"text\"],\n",
    "    embedding_node_property=\"embedding\"\n",
    ")"
   ]
  },
  {
   "cell_type": "markdown",
   "source": [
    "然后可以使用 similarity_search 方法调用 vector 索引。\n",
    "## 图形检索器\n",
    "另一方面，配置图形检索更复杂，但提供了更多的自由度。在此示例中，我们将使用全文索引来识别相关节点，然后返回它们的直接邻域。\n",
    "\n",
    "![图表]（https://raw.githubusercontent.com/tomasonjo/blogs/master/neighbor.png）\n",
    "\n",
    "图形检索器首先识别输入中的相关实体。为简单起见，我们指示 LLM 识别人员、组织和位置。为此，我们将使用 LCEL 和新添加的 'with_structured_output' 方法来实现这一目标。"
   ],
   "metadata": {
    "id": "2nzfPwvvy0Yz"
   }
  },
  {
   "cell_type": "code",
   "execution_count": null,
   "metadata": {
    "id": "6yCMz_sRtHNW",
    "outputId": "f533f279-9a2b-48d6-830b-28d04c43550b",
    "colab": {
     "base_uri": "https://localhost:8080/"
    }
   },
   "outputs": [
    {
     "output_type": "stream",
     "name": "stderr",
     "text": [
      "/usr/local/lib/python3.10/dist-packages/langchain_core/_api/beta_decorator.py:86: LangChainBetaWarning: The function `with_structured_output` is in beta. It is actively being worked on, so the API may change.\n",
      "  warn_beta(\n"
     ]
    }
   ],
   "source": [
    "# Retriever\n",
    "\n",
    "graph.query(\n",
    "    \"CREATE FULLTEXT INDEX entity IF NOT EXISTS FOR (e:__Entity__) ON EACH [e.id]\")\n",
    "\n",
    "# Extract entities from text\n",
    "class Entities(BaseModel):\n",
    "    \"\"\"Identifying information about entities.\"\"\"\n",
    "\n",
    "    names: List[str] = Field(\n",
    "        ...,\n",
    "        description=\"All the person, organization, or business entities that \"\n",
    "        \"appear in the text\",\n",
    "    )\n",
    "\n",
    "prompt = ChatPromptTemplate.from_messages(\n",
    "    [\n",
    "        (\n",
    "            \"system\",\n",
    "            \"You are extracting organization and person entities from the text.\",\n",
    "        ),\n",
    "        (\n",
    "            \"human\",\n",
    "            \"Use the given format to extract information from the following \"\n",
    "            \"input: {question}\",\n",
    "        ),\n",
    "    ]\n",
    ")\n",
    "\n",
    "entity_chain = prompt | llm.with_structured_output(Entities)"
   ]
  },
  {
   "cell_type": "markdown",
   "source": [
    "让我们测试一下："
   ],
   "metadata": {
    "id": "n-Cs7RFAzdT3"
   }
  },
  {
   "cell_type": "code",
   "execution_count": 1,
   "metadata": {
    "id": "54H15KNAtHNX",
    "outputId": "236df5a6-9f9e-49fd-a360-e4bb51dc7288",
    "colab": {
     "base_uri": "https://localhost:8080/"
    },
    "ExecuteTime": {
     "end_time": "2025-01-02T11:43:19.077313100Z",
     "start_time": "2025-01-02T11:43:18.616907900Z"
    }
   },
   "outputs": [
    {
     "ename": "NameError",
     "evalue": "name 'entity_chain' is not defined",
     "output_type": "error",
     "traceback": [
      "\u001B[1;31m---------------------------------------------------------------------------\u001B[0m",
      "\u001B[1;31mNameError\u001B[0m                                 Traceback (most recent call last)",
      "Cell \u001B[1;32mIn[1], line 1\u001B[0m\n\u001B[1;32m----> 1\u001B[0m \u001B[43mentity_chain\u001B[49m\u001B[38;5;241m.\u001B[39minvoke({\u001B[38;5;124m\"\u001B[39m\u001B[38;5;124mquestion\u001B[39m\u001B[38;5;124m\"\u001B[39m: \u001B[38;5;124m\"\u001B[39m\u001B[38;5;124m阿米莉亚·埃尔哈特 （Amelia Earhart） 在哪里出生？\u001B[39m\u001B[38;5;124m\"\u001B[39m})\u001B[38;5;241m.\u001B[39mnames\n",
      "\u001B[1;31mNameError\u001B[0m: name 'entity_chain' is not defined"
     ]
    }
   ],
   "source": [
    "entity_chain.invoke({\"question\": \"阿米莉亚·埃尔哈特 （Amelia Earhart） 在哪里出生？\"}).names"
   ]
  },
  {
   "cell_type": "markdown",
   "source": [
    "太好了，现在我们可以检测问题中的实体，让我们使用全文索引将它们映射到知识图谱。首先，我们需要定义一个全文索引和一个函数，该函数将生成允许一些拼写错误的全文查询，我们在这里不会详细介绍。"
   ],
   "metadata": {
    "id": "e2S2aWq5zfQO"
   }
  },
  {
   "cell_type": "code",
   "execution_count": null,
   "metadata": {
    "id": "dY8huoM8tHNX"
   },
   "outputs": [],
   "source": [
    "def generate_full_text_query(input: str) -> str:\n",
    "    \"\"\"为给定的输入字符串生成全文搜索查询。\n",
    "\n",
    "    此函数构造适合全文搜索的查询字符串。\n",
    "    它通过将输入字符串拆分为单词并附加一个\n",
    "    相似度阈值（~2 个更改的字符）与每个单词匹配，然后组合\n",
    "    他们使用 AND 运算符。用于映射用户问题中的实体\n",
    "    添加到数据库值中，并允许一些拼写错误。\"\"\"\n",
    "    full_text_query = \"\"\n",
    "    words = [el for el in remove_lucene_chars(input).split() if el]\n",
    "    for word in words[:-1]:\n",
    "        full_text_query += f\" {word}~2 AND\"\n",
    "    full_text_query += f\" {words[-1]}~2\"\n",
    "    return full_text_query.strip()\n",
    "\n",
    "# Fulltext index query\n",
    "def structured_retriever(question: str) -> str:\n",
    "    \"\"\"\n",
    "    Collects the neighborhood of entities mentioned\n",
    "    in the question\n",
    "    \"\"\"\n",
    "    result = \"\"\n",
    "    entities = entity_chain.invoke({\"question\": question})\n",
    "    for entity in entities.names:\n",
    "        response = graph.query(\n",
    "            \"\"\"CALL db.index.fulltext.queryNodes('entity', $query, {limit:2})\n",
    "            YIELD node,score\n",
    "            CALL {\n",
    "              WITH node\n",
    "              MATCH (node)-[r:!MENTIONS]->(neighbor)\n",
    "              RETURN node.id + ' - ' + type(r) + ' -> ' + neighbor.id AS output\n",
    "              UNION ALL\n",
    "              WITH node\n",
    "              MATCH (node)<-[r:!MENTIONS]-(neighbor)\n",
    "              RETURN neighbor.id + ' - ' + type(r) + ' -> ' +  node.id AS output\n",
    "            }\n",
    "            RETURN output LIMIT 50\n",
    "            \"\"\",\n",
    "            {\"query\": generate_full_text_query(entity)},\n",
    "        )\n",
    "        result += \"\\n\".join([el['output'] for el in response])\n",
    "    return result"
   ]
  },
  {
   "cell_type": "markdown",
   "source": [
    "The `structured_retriever` function starts by detecting entities in the user question. Next, it iterates over the detected entities and uses a Cypher template to retrieve the neighborhood of relevant nodes. Let's test it out!"
   ],
   "metadata": {
    "id": "g-F9BjghzjdH"
   }
  },
  {
   "cell_type": "code",
   "execution_count": null,
   "metadata": {
    "id": "_6fOJRPntHNX",
    "outputId": "a99ffca0-2d4d-4374-8519-c6e37c395f1f",
    "colab": {
     "base_uri": "https://localhost:8080/"
    }
   },
   "outputs": [
    {
     "output_type": "stream",
     "name": "stdout",
     "text": [
      "Elizabeth I - RULED -> England\n",
      "Elizabeth I - RULED -> Ireland\n",
      "Elizabeth I - BELONGED_TO -> House Of Tudor\n",
      "Elizabeth I - PARENT -> Henry Viii\n",
      "Elizabeth I - PARENT -> Anne Boleyn\n",
      "Henry Viii - SPOUSE -> Anne Boleyn\n",
      "Henry Viii - PARENT -> Edward Vi\n",
      "Edward Vi - BEQUEATHED_CROWN_TO -> Lady Jane Grey\n",
      "Edward Vi - IGNORED_CLAIMS_OF -> Mary\n",
      "Edward Vi - IGNORED_CLAIMS_OF -> Elizabeth I\n",
      "Mary - IMPRISONED -> Elizabeth I\n",
      "Elizabeth I - DEPENDED_ON -> William Cecil\n",
      "Elizabeth I - CREATED_TITLE -> Baron Burghley\n",
      "Elizabeth I - SUCCEEDED_BY -> James Vi Of Scotland\n",
      "Mary, Queen Of Scots - PARENT -> James Vi Of Scotland\n",
      "Elizabeth I - DEPENDED_ON -> Francis Walsingham\n",
      "Elizabeth - WAR -> Spain\n",
      "Elizabeth - WAR -> Netherlands\n",
      "Elizabeth - WAR -> France\n",
      "Elizabeth - WAR -> Ireland\n",
      "Elizabeth - LEAD -> William Shakespeare\n",
      "Elizabeth - LEAD -> Christopher Marlowe\n",
      "Elizabeth - LEAD -> Francis Drake\n",
      "Elizabeth - LEAD -> Walter Raleigh\n",
      "Elizabeth - DEFEAT -> Spanish Armada\n",
      "Elizabeth I - SUCCESSOR -> James Vi Of Scotland\n",
      "Henry Viii - SUCCESSOR -> Edward Vi\n",
      "Henry Viii - SUCCESSOR -> Mary I\n",
      "Henry Viii - SUCCESSOR -> Elizabeth I\n",
      "Henry Viii - SUCCESSOR -> Jane Grey\n",
      "Henry Viii - SUCCESSOR -> Katherine Grey\n",
      "Henry Viii - SUCCESSOR -> Mary Grey\n",
      "Henry Viii - SUCCESSOR -> Margaret Clifford\n",
      "Mary I - PREFERRED_SUCCESSOR -> Margaret Douglas\n",
      "Margaret Douglas - FAMILY_RELATION -> Henry Stuart, Lord Darnley\n",
      "Henry Stuart, Lord Darnley - MARRIAGE -> Mary, Queen Of Scots\n",
      "Margaret Tudor - GRANDPARENT -> James Vi\n",
      "Margaret Tudor - GRANDPARENT -> Arbella Stuart\n",
      "Margaret Douglas - PARENT -> Charles Stuart\n",
      "Charles Stuart - PARENT -> Arbella Stuart\n",
      "Mary, Queen Of Scots - PARENT -> James Vi\n",
      "Mary, Queen Of Scots - CONTENDER -> Elizabeth\n",
      "Frances Grey - PARENT -> Lady Jane Grey\n",
      "Frances Grey - PARENT -> Lady Catherine Grey\n",
      "Frances Grey - PARENT -> Lady Mary Grey\n",
      "Charles Brandon - SPOUSE -> Frances Grey\n",
      "Charles Brandon - SPOUSE -> Eleanor Clifford\n",
      "Henry Grey - SPOUSE -> Frances Grey\n",
      "Lady Catherine Grey - SPOUSE -> Henry Herbert\n",
      "Elizabeth Petrovna - HELD_TITLE -> Empress Of Russia\n"
     ]
    }
   ],
   "source": [
    "print(structured_retriever(\"Who is Elizabeth I?\"))"
   ]
  },
  {
   "cell_type": "markdown",
   "source": [
    "## 最终检索器\n",
    "正如我们在开头提到的，我们将组合 unstructured 和 graph retriever 来创建将传递给 LLM 的最终上下文。"
   ],
   "metadata": {
    "id": "xN9c_dEozyaO"
   }
  },
  {
   "cell_type": "code",
   "execution_count": null,
   "metadata": {
    "id": "iCTMp3prtHNX"
   },
   "outputs": [],
   "source": [
    "def retriever(question: str):\n",
    "    print(f\"Search query: {question}\")\n",
    "    structured_data = structured_retriever(question)\n",
    "    unstructured_data = [el.page_content for el in vector_index.similarity_search(question)]\n",
    "    final_data = f\"\"\"Structured data:\n",
    "{structured_data}\n",
    "Unstructured data:\n",
    "{\"#Document \". join(unstructured_data)}\n",
    "    \"\"\"\n",
    "    return final_data"
   ]
  },
  {
   "cell_type": "markdown",
   "source": [
    "当我们处理 Python 时，我们可以简单地使用 f 字符串连接输出。\n",
    "## 定义 RAG 链\n",
    "我们已经成功实施了 RAG 的检索组件。首先，我们将介绍允许对话式后续问题的查询重写部分。"
   ],
   "metadata": {
    "id": "NZG9Q8Ohz3Hn"
   }
  },
  {
   "cell_type": "code",
   "execution_count": null,
   "metadata": {
    "id": "vu68Z79ttHNX"
   },
   "outputs": [],
   "source": [
    "# Condense a chat history and follow-up question into a standalone question\n",
    "_template = \"\"\"Given the following conversation and a follow up question, rephrase the follow up question to be a standalone question,\n",
    "in its original language.\n",
    "Chat History:\n",
    "{chat_history}\n",
    "Follow Up Input: {question}\n",
    "Standalone question:\"\"\"  # noqa: E501\n",
    "CONDENSE_QUESTION_PROMPT = PromptTemplate.from_template(_template)\n",
    "\n",
    "def _format_chat_history(chat_history: List[Tuple[str, str]]) -> List:\n",
    "    buffer = []\n",
    "    for human, ai in chat_history:\n",
    "        buffer.append(HumanMessage(content=human))\n",
    "        buffer.append(AIMessage(content=ai))\n",
    "    return buffer\n",
    "\n",
    "_search_query = RunnableBranch(\n",
    "    # If input includes chat_history, we condense it with the follow-up question\n",
    "    (\n",
    "        RunnableLambda(lambda x: bool(x.get(\"chat_history\"))).with_config(\n",
    "            run_name=\"HasChatHistoryCheck\"\n",
    "        ),  # Condense follow-up question and chat into a standalone_question\n",
    "        RunnablePassthrough.assign(\n",
    "            chat_history=lambda x: _format_chat_history(x[\"chat_history\"])\n",
    "        )\n",
    "        | CONDENSE_QUESTION_PROMPT\n",
    "        | ChatOpenAI(temperature=0)\n",
    "        | StrOutputParser(),\n",
    "    ),\n",
    "    # Else, we have no chat history, so just pass through the question\n",
    "    RunnableLambda(lambda x : x[\"question\"]),\n",
    ")"
   ]
  },
  {
   "cell_type": "markdown",
   "source": [
    "接下来，我们介绍一个提示，它利用集成的混合检索器提供的上下文来生成响应，从而完成 RAG 链的实现。"
   ],
   "metadata": {
    "id": "CsH90hbvz_aF"
   }
  },
  {
   "cell_type": "code",
   "execution_count": null,
   "metadata": {
    "id": "Dzb2jcittHNY"
   },
   "outputs": [],
   "source": [
    "template = \"\"\"Answer the question based only on the following context:\n",
    "{context}\n",
    "\n",
    "Question: {question}\n",
    "Use natural language and be concise.\n",
    "Answer:\"\"\"\n",
    "prompt = ChatPromptTemplate.from_template(template)\n",
    "\n",
    "chain = (\n",
    "    RunnableParallel(\n",
    "        {\n",
    "            \"context\": _search_query | retriever,\n",
    "            \"question\": RunnablePassthrough(),\n",
    "        }\n",
    "    )\n",
    "    | prompt\n",
    "    | llm\n",
    "    | StrOutputParser()\n",
    ")"
   ]
  },
  {
   "cell_type": "markdown",
   "source": [
    "Finally, we can go ahead and test our hybrid RAG implementation."
   ],
   "metadata": {
    "id": "w3SeRw0L0Gy3"
   }
  },
  {
   "cell_type": "code",
   "execution_count": null,
   "metadata": {
    "id": "dtU0iMNgtHNY",
    "outputId": "bf3cf94c-f030-41b4-fb3b-356c5bff98f5",
    "colab": {
     "base_uri": "https://localhost:8080/",
     "height": 53
    }
   },
   "outputs": [
    {
     "output_type": "stream",
     "name": "stdout",
     "text": [
      "Search query: Which house did Elizabeth I belong to?\n"
     ]
    },
    {
     "output_type": "execute_result",
     "data": {
      "text/plain": [
       "'Elizabeth I belonged to the House of Tudor.'"
      ],
      "application/vnd.google.colaboratory.intrinsic+json": {
       "type": "string"
      }
     },
     "metadata": {},
     "execution_count": 15
    }
   ],
   "source": [
    "chain.invoke({\"question\": \"Which house did Elizabeth I belong to?\"})"
   ]
  },
  {
   "cell_type": "markdown",
   "source": [
    "Let's test a follow up question!"
   ],
   "metadata": {
    "id": "aLjhppwj0Jz_"
   }
  },
  {
   "cell_type": "code",
   "execution_count": null,
   "metadata": {
    "id": "ln_Hz2obtHNY",
    "outputId": "1f510244-0406-4748-d5f7-71c3e56de9ab",
    "colab": {
     "base_uri": "https://localhost:8080/",
     "height": 53
    }
   },
   "outputs": [
    {
     "output_type": "stream",
     "name": "stdout",
     "text": [
      "Search query: When was Elizabeth I born?\n"
     ]
    },
    {
     "output_type": "execute_result",
     "data": {
      "text/plain": [
       "'Elizabeth I was born on 7 September 1533.'"
      ],
      "application/vnd.google.colaboratory.intrinsic+json": {
       "type": "string"
      }
     },
     "metadata": {},
     "execution_count": 16
    }
   ],
   "source": [
    "chain.invoke(\n",
    "    {\n",
    "        \"question\": \"When was she born?\",\n",
    "        \"chat_history\": [(\"Which house did Elizabeth I belong to?\", \"House Of Tudor\")],\n",
    "    }\n",
    ")"
   ]
  },
  {
   "cell_type": "code",
   "execution_count": null,
   "metadata": {
    "id": "CvaTiHtNtHNY"
   },
   "outputs": [],
   "source": []
  }
 ],
 "metadata": {
  "kernelspec": {
   "display_name": "Python 3 (ipykernel)",
   "language": "python",
   "name": "python3"
  },
  "language_info": {
   "codemirror_mode": {
    "name": "ipython",
    "version": 3
   },
   "file_extension": ".py",
   "mimetype": "text/x-python",
   "name": "python",
   "nbconvert_exporter": "python",
   "pygments_lexer": "ipython3",
   "version": "3.11.5"
  },
  "colab": {
   "provenance": [],
   "include_colab_link": true
  },
  "widgets": {
   "application/vnd.jupyter.widget-state+json": {
    "8e37edd9789a4d57a7be401628e7ff7f": {
     "model_module": "yfiles-jupyter-graphs",
     "model_name": "GraphModel",
     "model_module_version": "^1.6.1",
     "state": {
      "_context_pane_mapping": [
       {
        "id": "Neighborhood",
        "title": "Neighborhood"
       },
       {
        "id": "Data",
        "title": "Data"
       },
       {
        "id": "Search",
        "title": "Search"
       },
       {
        "id": "About",
        "title": "About"
       }
      ],
      "_data_importer": "neo4j",
      "_directed": true,
      "_dom_classes": [],
      "_edges": [
       {
        "id": 14,
        "start": 1,
        "end": 2,
        "properties": {
         "label": "RULED"
        },
        "label": "RULED",
        "color": "#9C27B0",
        "thickness_factor": 1,
        "directed": true
       },
       {
        "id": 15,
        "start": 1,
        "end": 3,
        "properties": {
         "label": "RULED"
        },
        "label": "RULED",
        "color": "#9C27B0",
        "thickness_factor": 1,
        "directed": true
       },
       {
        "id": 16,
        "start": 1,
        "end": 4,
        "properties": {
         "label": "BELONGED_TO"
        },
        "label": "BELONGED_TO",
        "color": "#2196F3",
        "thickness_factor": 1,
        "directed": true
       },
       {
        "id": 17,
        "start": 1,
        "end": 5,
        "properties": {
         "label": "PARENT"
        },
        "label": "PARENT",
        "color": "#4CAF50",
        "thickness_factor": 1,
        "directed": true
       },
       {
        "id": 18,
        "start": 1,
        "end": 6,
        "properties": {
         "label": "PARENT"
        },
        "label": "PARENT",
        "color": "#4CAF50",
        "thickness_factor": 1,
        "directed": true
       },
       {
        "id": 19,
        "start": 5,
        "end": 6,
        "properties": {
         "label": "SPOUSE"
        },
        "label": "SPOUSE",
        "color": "#F44336",
        "thickness_factor": 1,
        "directed": true
       },
       {
        "id": 20,
        "start": 5,
        "end": 7,
        "properties": {
         "label": "PARENT"
        },
        "label": "PARENT",
        "color": "#4CAF50",
        "thickness_factor": 1,
        "directed": true
       },
       {
        "id": 21,
        "start": 7,
        "end": 8,
        "properties": {
         "label": "BEQUEATHED_CROWN_TO"
        },
        "label": "BEQUEATHED_CROWN_TO",
        "color": "#607D8B",
        "thickness_factor": 1,
        "directed": true
       },
       {
        "id": 22,
        "start": 7,
        "end": 9,
        "properties": {
         "label": "IGNORED_CLAIMS_OF"
        },
        "label": "IGNORED_CLAIMS_OF",
        "color": "#673AB7",
        "thickness_factor": 1,
        "directed": true
       },
       {
        "id": 23,
        "start": 7,
        "end": 1,
        "properties": {
         "label": "IGNORED_CLAIMS_OF"
        },
        "label": "IGNORED_CLAIMS_OF",
        "color": "#673AB7",
        "thickness_factor": 1,
        "directed": true
       },
       {
        "id": 24,
        "start": 9,
        "end": 1,
        "properties": {
         "label": "IMPRISONED"
        },
        "label": "IMPRISONED",
        "color": "#CDDC39",
        "thickness_factor": 1,
        "directed": true
       },
       {
        "id": 25,
        "start": 1,
        "end": 10,
        "properties": {
         "label": "DEPENDED_ON"
        },
        "label": "DEPENDED_ON",
        "color": "#9E9E9E",
        "thickness_factor": 1,
        "directed": true
       },
       {
        "id": 26,
        "start": 1,
        "end": 11,
        "properties": {
         "label": "CREATED_TITLE"
        },
        "label": "CREATED_TITLE",
        "color": "#9C27B0",
        "thickness_factor": 1,
        "directed": true
       },
       {
        "id": 27,
        "start": 1,
        "end": 12,
        "properties": {
         "label": "SUCCEEDED_BY"
        },
        "label": "SUCCEEDED_BY",
        "color": "#2196F3",
        "thickness_factor": 1,
        "directed": true
       },
       {
        "id": 28,
        "start": 13,
        "end": 12,
        "properties": {
         "label": "PARENT"
        },
        "label": "PARENT",
        "color": "#4CAF50",
        "thickness_factor": 1,
        "directed": true
       },
       {
        "id": 29,
        "start": 1,
        "end": 14,
        "properties": {
         "label": "DEPENDED_ON"
        },
        "label": "DEPENDED_ON",
        "color": "#9E9E9E",
        "thickness_factor": 1,
        "directed": true
       },
       {
        "id": 40,
        "start": 16,
        "end": 17,
        "properties": {
         "label": "WAR"
        },
        "label": "WAR",
        "color": "#4CAF50",
        "thickness_factor": 1,
        "directed": true
       },
       {
        "id": 41,
        "start": 16,
        "end": 18,
        "properties": {
         "label": "WAR"
        },
        "label": "WAR",
        "color": "#4CAF50",
        "thickness_factor": 1,
        "directed": true
       },
       {
        "id": 42,
        "start": 16,
        "end": 19,
        "properties": {
         "label": "WAR"
        },
        "label": "WAR",
        "color": "#4CAF50",
        "thickness_factor": 1,
        "directed": true
       },
       {
        "id": 43,
        "start": 16,
        "end": 3,
        "properties": {
         "label": "WAR"
        },
        "label": "WAR",
        "color": "#4CAF50",
        "thickness_factor": 1,
        "directed": true
       },
       {
        "id": 44,
        "start": 16,
        "end": 20,
        "properties": {
         "label": "LEAD"
        },
        "label": "LEAD",
        "color": "#F44336",
        "thickness_factor": 1,
        "directed": true
       },
       {
        "id": 45,
        "start": 16,
        "end": 21,
        "properties": {
         "label": "LEAD"
        },
        "label": "LEAD",
        "color": "#F44336",
        "thickness_factor": 1,
        "directed": true
       },
       {
        "id": 46,
        "start": 16,
        "end": 22,
        "properties": {
         "label": "LEAD"
        },
        "label": "LEAD",
        "color": "#F44336",
        "thickness_factor": 1,
        "directed": true
       },
       {
        "id": 47,
        "start": 16,
        "end": 23,
        "properties": {
         "label": "LEAD"
        },
        "label": "LEAD",
        "color": "#F44336",
        "thickness_factor": 1,
        "directed": true
       },
       {
        "id": 48,
        "start": 16,
        "end": 24,
        "properties": {
         "label": "DEFEAT"
        },
        "label": "DEFEAT",
        "color": "#607D8B",
        "thickness_factor": 1,
        "directed": true
       },
       {
        "id": 64,
        "start": 1,
        "end": 12,
        "properties": {
         "label": "SUCCESSOR"
        },
        "label": "SUCCESSOR",
        "color": "#673AB7",
        "thickness_factor": 1,
        "directed": true
       },
       {
        "id": 65,
        "start": 5,
        "end": 7,
        "properties": {
         "label": "SUCCESSOR"
        },
        "label": "SUCCESSOR",
        "color": "#673AB7",
        "thickness_factor": 1,
        "directed": true
       },
       {
        "id": 66,
        "start": 5,
        "end": 29,
        "properties": {
         "label": "SUCCESSOR"
        },
        "label": "SUCCESSOR",
        "color": "#673AB7",
        "thickness_factor": 1,
        "directed": true
       },
       {
        "id": 67,
        "start": 5,
        "end": 1,
        "properties": {
         "label": "SUCCESSOR"
        },
        "label": "SUCCESSOR",
        "color": "#673AB7",
        "thickness_factor": 1,
        "directed": true
       },
       {
        "id": 68,
        "start": 5,
        "end": 30,
        "properties": {
         "label": "SUCCESSOR"
        },
        "label": "SUCCESSOR",
        "color": "#673AB7",
        "thickness_factor": 1,
        "directed": true
       },
       {
        "id": 69,
        "start": 5,
        "end": 31,
        "properties": {
         "label": "SUCCESSOR"
        },
        "label": "SUCCESSOR",
        "color": "#673AB7",
        "thickness_factor": 1,
        "directed": true
       },
       {
        "id": 70,
        "start": 5,
        "end": 32,
        "properties": {
         "label": "SUCCESSOR"
        },
        "label": "SUCCESSOR",
        "color": "#673AB7",
        "thickness_factor": 1,
        "directed": true
       },
       {
        "id": 71,
        "start": 5,
        "end": 33,
        "properties": {
         "label": "SUCCESSOR"
        },
        "label": "SUCCESSOR",
        "color": "#673AB7",
        "thickness_factor": 1,
        "directed": true
       },
       {
        "id": 72,
        "start": 29,
        "end": 34,
        "properties": {
         "label": "PREFERRED_SUCCESSOR"
        },
        "label": "PREFERRED_SUCCESSOR",
        "color": "#CDDC39",
        "thickness_factor": 1,
        "directed": true
       },
       {
        "id": 73,
        "start": 34,
        "end": 35,
        "properties": {
         "label": "FAMILY_RELATION"
        },
        "label": "FAMILY_RELATION",
        "color": "#9E9E9E",
        "thickness_factor": 1,
        "directed": true
       },
       {
        "id": 74,
        "start": 35,
        "end": 13,
        "properties": {
         "label": "MARRIAGE"
        },
        "label": "MARRIAGE",
        "color": "#9C27B0",
        "thickness_factor": 1,
        "directed": true
       },
       {
        "id": 91,
        "start": 39,
        "end": 37,
        "properties": {
         "label": "GRANDPARENT"
        },
        "label": "GRANDPARENT",
        "color": "#2196F3",
        "thickness_factor": 1,
        "directed": true
       },
       {
        "id": 92,
        "start": 39,
        "end": 38,
        "properties": {
         "label": "GRANDPARENT"
        },
        "label": "GRANDPARENT",
        "color": "#2196F3",
        "thickness_factor": 1,
        "directed": true
       },
       {
        "id": 93,
        "start": 34,
        "end": 40,
        "properties": {
         "label": "PARENT"
        },
        "label": "PARENT",
        "color": "#4CAF50",
        "thickness_factor": 1,
        "directed": true
       },
       {
        "id": 94,
        "start": 40,
        "end": 38,
        "properties": {
         "label": "PARENT"
        },
        "label": "PARENT",
        "color": "#4CAF50",
        "thickness_factor": 1,
        "directed": true
       },
       {
        "id": 95,
        "start": 13,
        "end": 37,
        "properties": {
         "label": "PARENT"
        },
        "label": "PARENT",
        "color": "#4CAF50",
        "thickness_factor": 1,
        "directed": true
       },
       {
        "id": 96,
        "start": 13,
        "end": 16,
        "properties": {
         "label": "CONTENDER"
        },
        "label": "CONTENDER",
        "color": "#4CAF50",
        "thickness_factor": 1,
        "directed": true
       },
       {
        "id": 97,
        "start": 41,
        "end": 8,
        "properties": {
         "label": "PARENT"
        },
        "label": "PARENT",
        "color": "#4CAF50",
        "thickness_factor": 1,
        "directed": true
       },
       {
        "id": 98,
        "start": 41,
        "end": 46,
        "properties": {
         "label": "PARENT"
        },
        "label": "PARENT",
        "color": "#4CAF50",
        "thickness_factor": 1,
        "directed": true
       },
       {
        "id": 99,
        "start": 41,
        "end": 47,
        "properties": {
         "label": "PARENT"
        },
        "label": "PARENT",
        "color": "#4CAF50",
        "thickness_factor": 1,
        "directed": true
       },
       {
        "id": 100,
        "start": 44,
        "end": 41,
        "properties": {
         "label": "SPOUSE"
        },
        "label": "SPOUSE",
        "color": "#F44336",
        "thickness_factor": 1,
        "directed": true
       },
       {
        "id": 101,
        "start": 44,
        "end": 42,
        "properties": {
         "label": "SPOUSE"
        },
        "label": "SPOUSE",
        "color": "#F44336",
        "thickness_factor": 1,
        "directed": true
       },
       {
        "id": 102,
        "start": 45,
        "end": 41,
        "properties": {
         "label": "SPOUSE"
        },
        "label": "SPOUSE",
        "color": "#F44336",
        "thickness_factor": 1,
        "directed": true
       },
       {
        "id": 103,
        "start": 46,
        "end": 48,
        "properties": {
         "label": "SPOUSE"
        },
        "label": "SPOUSE",
        "color": "#F44336",
        "thickness_factor": 1,
        "directed": true
       },
       {
        "id": 117,
        "start": 50,
        "end": 51,
        "properties": {
         "label": "HELD_TITLE"
        },
        "label": "HELD_TITLE",
        "color": "#F44336",
        "thickness_factor": 1,
        "directed": true
       }
      ],
      "_graph_layout": {},
      "_highlight": [],
      "_license": {},
      "_model_module": "yfiles-jupyter-graphs",
      "_model_module_version": "^1.6.1",
      "_model_name": "GraphModel",
      "_neighborhood": {},
      "_nodes": [
       {
        "id": 1,
        "properties": {
         "id": "Elizabeth I",
         "label": "Person:__Entity__"
        },
        "color": "#2196F3",
        "styles": {},
        "label": "Elizabeth I",
        "scale_factor": 1,
        "type": "#2196F3",
        "size": [
         55,
         55
        ],
        "position": [
         0,
         0
        ]
       },
       {
        "id": 2,
        "properties": {
         "id": "England",
         "label": "Country:__Entity__"
        },
        "color": "#4CAF50",
        "styles": {},
        "label": "England",
        "scale_factor": 1,
        "type": "#4CAF50",
        "size": [
         55,
         55
        ],
        "position": [
         0,
         0
        ]
       },
       {
        "id": 3,
        "properties": {
         "id": "Ireland",
         "label": "Country:__Entity__"
        },
        "color": "#4CAF50",
        "styles": {},
        "label": "Ireland",
        "scale_factor": 1,
        "type": "#4CAF50",
        "size": [
         55,
         55
        ],
        "position": [
         0,
         0
        ]
       },
       {
        "id": 4,
        "properties": {
         "id": "House Of Tudor",
         "label": "__Entity__:Royal family"
        },
        "color": "#F44336",
        "styles": {},
        "label": "House Of Tudor",
        "scale_factor": 1,
        "type": "#F44336",
        "size": [
         55,
         55
        ],
        "position": [
         0,
         0
        ]
       },
       {
        "id": 5,
        "properties": {
         "id": "Henry Viii",
         "label": "Person:__Entity__"
        },
        "color": "#2196F3",
        "styles": {},
        "label": "Henry Viii",
        "scale_factor": 1,
        "type": "#2196F3",
        "size": [
         55,
         55
        ],
        "position": [
         0,
         0
        ]
       },
       {
        "id": 6,
        "properties": {
         "id": "Anne Boleyn",
         "label": "Person:__Entity__"
        },
        "color": "#2196F3",
        "styles": {},
        "label": "Anne Boleyn",
        "scale_factor": 1,
        "type": "#2196F3",
        "size": [
         55,
         55
        ],
        "position": [
         0,
         0
        ]
       },
       {
        "id": 7,
        "properties": {
         "id": "Edward Vi",
         "label": "Person:__Entity__"
        },
        "color": "#2196F3",
        "styles": {},
        "label": "Edward Vi",
        "scale_factor": 1,
        "type": "#2196F3",
        "size": [
         55,
         55
        ],
        "position": [
         0,
         0
        ]
       },
       {
        "id": 8,
        "properties": {
         "id": "Lady Jane Grey",
         "label": "Person:__Entity__"
        },
        "color": "#2196F3",
        "styles": {},
        "label": "Lady Jane Grey",
        "scale_factor": 1,
        "type": "#2196F3",
        "size": [
         55,
         55
        ],
        "position": [
         0,
         0
        ]
       },
       {
        "id": 9,
        "properties": {
         "id": "Mary",
         "label": "Person:__Entity__"
        },
        "color": "#2196F3",
        "styles": {},
        "label": "Mary",
        "scale_factor": 1,
        "type": "#2196F3",
        "size": [
         55,
         55
        ],
        "position": [
         0,
         0
        ]
       },
       {
        "id": 10,
        "properties": {
         "id": "William Cecil",
         "label": "Person:__Entity__"
        },
        "color": "#2196F3",
        "styles": {},
        "label": "William Cecil",
        "scale_factor": 1,
        "type": "#2196F3",
        "size": [
         55,
         55
        ],
        "position": [
         0,
         0
        ]
       },
       {
        "id": 11,
        "properties": {
         "id": "Baron Burghley",
         "label": "Title:__Entity__"
        },
        "color": "#607D8B",
        "styles": {},
        "label": "Baron Burghley",
        "scale_factor": 1,
        "type": "#607D8B",
        "size": [
         55,
         55
        ],
        "position": [
         0,
         0
        ]
       },
       {
        "id": 12,
        "properties": {
         "id": "James Vi Of Scotland",
         "label": "Person:__Entity__"
        },
        "color": "#2196F3",
        "styles": {},
        "label": "James Vi Of Scotland",
        "scale_factor": 1,
        "type": "#2196F3",
        "size": [
         55,
         55
        ],
        "position": [
         0,
         0
        ]
       },
       {
        "id": 13,
        "properties": {
         "id": "Mary, Queen Of Scots",
         "label": "Person:__Entity__"
        },
        "color": "#2196F3",
        "styles": {},
        "label": "Mary, Queen Of Scots",
        "scale_factor": 1,
        "type": "#2196F3",
        "size": [
         55,
         55
        ],
        "position": [
         0,
         0
        ]
       },
       {
        "id": 14,
        "properties": {
         "id": "Francis Walsingham",
         "label": "Person:__Entity__"
        },
        "color": "#2196F3",
        "styles": {},
        "label": "Francis Walsingham",
        "scale_factor": 1,
        "type": "#2196F3",
        "size": [
         55,
         55
        ],
        "position": [
         0,
         0
        ]
       },
       {
        "id": 16,
        "properties": {
         "id": "Elizabeth",
         "label": "Person:__Entity__"
        },
        "color": "#2196F3",
        "styles": {},
        "label": "Elizabeth",
        "scale_factor": 1,
        "type": "#2196F3",
        "size": [
         55,
         55
        ],
        "position": [
         0,
         0
        ]
       },
       {
        "id": 17,
        "properties": {
         "id": "Spain",
         "label": "Country:__Entity__"
        },
        "color": "#4CAF50",
        "styles": {},
        "label": "Spain",
        "scale_factor": 1,
        "type": "#4CAF50",
        "size": [
         55,
         55
        ],
        "position": [
         0,
         0
        ]
       },
       {
        "id": 18,
        "properties": {
         "id": "Netherlands",
         "label": "Country:__Entity__"
        },
        "color": "#4CAF50",
        "styles": {},
        "label": "Netherlands",
        "scale_factor": 1,
        "type": "#4CAF50",
        "size": [
         55,
         55
        ],
        "position": [
         0,
         0
        ]
       },
       {
        "id": 19,
        "properties": {
         "id": "France",
         "label": "Country:__Entity__"
        },
        "color": "#4CAF50",
        "styles": {},
        "label": "France",
        "scale_factor": 1,
        "type": "#4CAF50",
        "size": [
         55,
         55
        ],
        "position": [
         0,
         0
        ]
       },
       {
        "id": 20,
        "properties": {
         "id": "William Shakespeare",
         "label": "Playwright:__Entity__"
        },
        "color": "#673AB7",
        "styles": {},
        "label": "William Shakespeare",
        "scale_factor": 1,
        "type": "#673AB7",
        "size": [
         55,
         55
        ],
        "position": [
         0,
         0
        ]
       },
       {
        "id": 21,
        "properties": {
         "id": "Christopher Marlowe",
         "label": "Playwright:__Entity__"
        },
        "color": "#673AB7",
        "styles": {},
        "label": "Christopher Marlowe",
        "scale_factor": 1,
        "type": "#673AB7",
        "size": [
         55,
         55
        ],
        "position": [
         0,
         0
        ]
       },
       {
        "id": 22,
        "properties": {
         "id": "Francis Drake",
         "label": "Explorer:__Entity__"
        },
        "color": "#CDDC39",
        "styles": {},
        "label": "Francis Drake",
        "scale_factor": 1,
        "type": "#CDDC39",
        "size": [
         55,
         55
        ],
        "position": [
         0,
         0
        ]
       },
       {
        "id": 23,
        "properties": {
         "id": "Walter Raleigh",
         "label": "Explorer:__Entity__"
        },
        "color": "#CDDC39",
        "styles": {},
        "label": "Walter Raleigh",
        "scale_factor": 1,
        "type": "#CDDC39",
        "size": [
         55,
         55
        ],
        "position": [
         0,
         0
        ]
       },
       {
        "id": 24,
        "properties": {
         "id": "Spanish Armada",
         "label": "Event:__Entity__"
        },
        "color": "#9E9E9E",
        "styles": {},
        "label": "Spanish Armada",
        "scale_factor": 1,
        "type": "#9E9E9E",
        "size": [
         55,
         55
        ],
        "position": [
         0,
         0
        ]
       },
       {
        "id": 29,
        "properties": {
         "id": "Mary I",
         "label": "Person:__Entity__"
        },
        "color": "#2196F3",
        "styles": {},
        "label": "Mary I",
        "scale_factor": 1,
        "type": "#2196F3",
        "size": [
         55,
         55
        ],
        "position": [
         0,
         0
        ]
       },
       {
        "id": 30,
        "properties": {
         "id": "Jane Grey",
         "label": "Person:__Entity__"
        },
        "color": "#2196F3",
        "styles": {},
        "label": "Jane Grey",
        "scale_factor": 1,
        "type": "#2196F3",
        "size": [
         55,
         55
        ],
        "position": [
         0,
         0
        ]
       },
       {
        "id": 31,
        "properties": {
         "id": "Katherine Grey",
         "label": "Person:__Entity__"
        },
        "color": "#2196F3",
        "styles": {},
        "label": "Katherine Grey",
        "scale_factor": 1,
        "type": "#2196F3",
        "size": [
         55,
         55
        ],
        "position": [
         0,
         0
        ]
       },
       {
        "id": 32,
        "properties": {
         "id": "Mary Grey",
         "label": "Person:__Entity__"
        },
        "color": "#2196F3",
        "styles": {},
        "label": "Mary Grey",
        "scale_factor": 1,
        "type": "#2196F3",
        "size": [
         55,
         55
        ],
        "position": [
         0,
         0
        ]
       },
       {
        "id": 33,
        "properties": {
         "id": "Margaret Clifford",
         "label": "Person:__Entity__"
        },
        "color": "#2196F3",
        "styles": {},
        "label": "Margaret Clifford",
        "scale_factor": 1,
        "type": "#2196F3",
        "size": [
         55,
         55
        ],
        "position": [
         0,
         0
        ]
       },
       {
        "id": 34,
        "properties": {
         "id": "Margaret Douglas",
         "label": "Person:__Entity__"
        },
        "color": "#2196F3",
        "styles": {},
        "label": "Margaret Douglas",
        "scale_factor": 1,
        "type": "#2196F3",
        "size": [
         55,
         55
        ],
        "position": [
         0,
         0
        ]
       },
       {
        "id": 35,
        "properties": {
         "id": "Henry Stuart, Lord Darnley",
         "label": "Person:__Entity__"
        },
        "color": "#2196F3",
        "styles": {},
        "label": "Henry Stuart, Lord Darnley",
        "scale_factor": 1,
        "type": "#2196F3",
        "size": [
         55,
         55
        ],
        "position": [
         0,
         0
        ]
       },
       {
        "id": 39,
        "properties": {
         "id": "Margaret Tudor",
         "label": "Person:__Entity__"
        },
        "color": "#2196F3",
        "styles": {},
        "label": "Margaret Tudor",
        "scale_factor": 1,
        "type": "#2196F3",
        "size": [
         55,
         55
        ],
        "position": [
         0,
         0
        ]
       },
       {
        "id": 37,
        "properties": {
         "id": "James Vi",
         "label": "Person:__Entity__"
        },
        "color": "#2196F3",
        "styles": {},
        "label": "James Vi",
        "scale_factor": 1,
        "type": "#2196F3",
        "size": [
         55,
         55
        ],
        "position": [
         0,
         0
        ]
       },
       {
        "id": 38,
        "properties": {
         "id": "Arbella Stuart",
         "label": "Person:__Entity__"
        },
        "color": "#2196F3",
        "styles": {},
        "label": "Arbella Stuart",
        "scale_factor": 1,
        "type": "#2196F3",
        "size": [
         55,
         55
        ],
        "position": [
         0,
         0
        ]
       },
       {
        "id": 40,
        "properties": {
         "id": "Charles Stuart",
         "label": "Person:__Entity__"
        },
        "color": "#2196F3",
        "styles": {},
        "label": "Charles Stuart",
        "scale_factor": 1,
        "type": "#2196F3",
        "size": [
         55,
         55
        ],
        "position": [
         0,
         0
        ]
       },
       {
        "id": 41,
        "properties": {
         "id": "Frances Grey",
         "label": "Person:__Entity__"
        },
        "color": "#2196F3",
        "styles": {},
        "label": "Frances Grey",
        "scale_factor": 1,
        "type": "#2196F3",
        "size": [
         55,
         55
        ],
        "position": [
         0,
         0
        ]
       },
       {
        "id": 46,
        "properties": {
         "id": "Lady Catherine Grey",
         "label": "Person:__Entity__"
        },
        "color": "#2196F3",
        "styles": {},
        "label": "Lady Catherine Grey",
        "scale_factor": 1,
        "type": "#2196F3",
        "size": [
         55,
         55
        ],
        "position": [
         0,
         0
        ]
       },
       {
        "id": 47,
        "properties": {
         "id": "Lady Mary Grey",
         "label": "Person:__Entity__"
        },
        "color": "#2196F3",
        "styles": {},
        "label": "Lady Mary Grey",
        "scale_factor": 1,
        "type": "#2196F3",
        "size": [
         55,
         55
        ],
        "position": [
         0,
         0
        ]
       },
       {
        "id": 44,
        "properties": {
         "id": "Charles Brandon",
         "label": "Person:__Entity__"
        },
        "color": "#2196F3",
        "styles": {},
        "label": "Charles Brandon",
        "scale_factor": 1,
        "type": "#2196F3",
        "size": [
         55,
         55
        ],
        "position": [
         0,
         0
        ]
       },
       {
        "id": 42,
        "properties": {
         "id": "Eleanor Clifford",
         "label": "Person:__Entity__"
        },
        "color": "#2196F3",
        "styles": {},
        "label": "Eleanor Clifford",
        "scale_factor": 1,
        "type": "#2196F3",
        "size": [
         55,
         55
        ],
        "position": [
         0,
         0
        ]
       },
       {
        "id": 45,
        "properties": {
         "id": "Henry Grey",
         "label": "Person:__Entity__"
        },
        "color": "#2196F3",
        "styles": {},
        "label": "Henry Grey",
        "scale_factor": 1,
        "type": "#2196F3",
        "size": [
         55,
         55
        ],
        "position": [
         0,
         0
        ]
       },
       {
        "id": 48,
        "properties": {
         "id": "Henry Herbert",
         "label": "Person:__Entity__"
        },
        "color": "#2196F3",
        "styles": {},
        "label": "Henry Herbert",
        "scale_factor": 1,
        "type": "#2196F3",
        "size": [
         55,
         55
        ],
        "position": [
         0,
         0
        ]
       },
       {
        "id": 50,
        "properties": {
         "id": "Elizabeth Petrovna",
         "label": "Person:__Entity__"
        },
        "color": "#2196F3",
        "styles": {},
        "label": "Elizabeth Petrovna",
        "scale_factor": 1,
        "type": "#2196F3",
        "size": [
         55,
         55
        ],
        "position": [
         0,
         0
        ]
       },
       {
        "id": 51,
        "properties": {
         "id": "Empress Of Russia",
         "label": "Title:__Entity__"
        },
        "color": "#607D8B",
        "styles": {},
        "label": "Empress Of Russia",
        "scale_factor": 1,
        "type": "#607D8B",
        "size": [
         55,
         55
        ],
        "position": [
         0,
         0
        ]
       }
      ],
      "_overview": {
       "enabled": null,
       "overview_set": false
      },
      "_selected_graph": [
       [],
       []
      ],
      "_sidebar": {
       "enabled": true,
       "start_with": ""
      },
      "_view_count": null,
      "_view_module": "yfiles-jupyter-graphs",
      "_view_module_version": "^1.6.1",
      "_view_name": "GraphView",
      "layout": "IPY_MODEL_9bac7003afd84cecb4e67a81a396ec8d"
     }
    },
    "9bac7003afd84cecb4e67a81a396ec8d": {
     "model_module": "@jupyter-widgets/base",
     "model_name": "LayoutModel",
     "model_module_version": "1.2.0",
     "state": {
      "_model_module": "@jupyter-widgets/base",
      "_model_module_version": "1.2.0",
      "_model_name": "LayoutModel",
      "_view_count": null,
      "_view_module": "@jupyter-widgets/base",
      "_view_module_version": "1.2.0",
      "_view_name": "LayoutView",
      "align_content": null,
      "align_items": null,
      "align_self": null,
      "border": null,
      "bottom": null,
      "display": null,
      "flex": null,
      "flex_flow": null,
      "grid_area": null,
      "grid_auto_columns": null,
      "grid_auto_flow": null,
      "grid_auto_rows": null,
      "grid_column": null,
      "grid_gap": null,
      "grid_row": null,
      "grid_template_areas": null,
      "grid_template_columns": null,
      "grid_template_rows": null,
      "height": "800px",
      "justify_content": null,
      "justify_items": null,
      "left": null,
      "margin": null,
      "max_height": null,
      "max_width": null,
      "min_height": null,
      "min_width": null,
      "object_fit": null,
      "object_position": null,
      "order": null,
      "overflow": null,
      "overflow_x": null,
      "overflow_y": null,
      "padding": null,
      "right": null,
      "top": null,
      "visibility": null,
      "width": "100%"
     }
    }
   }
  }
 },
 "nbformat": 4,
 "nbformat_minor": 0
}
